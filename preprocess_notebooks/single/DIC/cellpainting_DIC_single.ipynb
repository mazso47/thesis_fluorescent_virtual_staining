{
 "cells": [
  {
   "cell_type": "markdown",
   "id": "41f0b8e4-bcc5-4431-849d-839ab26e0b2f",
   "metadata": {},
   "source": [
    "### Collect relevant paths"
   ]
  },
  {
   "cell_type": "code",
   "execution_count": 86,
   "id": "4d594606-b359-4237-8b88-f27069953cd5",
   "metadata": {},
   "outputs": [],
   "source": [
    "import re\n",
    "import glob\n",
    "from aicsimageio import AICSImage\n",
    "import numpy as np\n",
    "import cv2\n",
    "from scipy import ndimage\n",
    "from PIL import Image\n",
    "import os\n",
    "import re\n",
    "from natsort import natsorted\n",
    "import matplotlib.pyplot as plt\n",
    "from skimage import io, img_as_float32, transform\n",
    "\n",
    "split_ratio = 0.8\n",
    "seed = 33\n",
    "np.random.seed(seed)"
   ]
  },
  {
   "cell_type": "code",
   "execution_count": 87,
   "id": "2fc531d3-e988-493d-807b-1a95f4a31fb8",
   "metadata": {},
   "outputs": [],
   "source": [
    "datasets_to_augment = [\"Study_3\", \"Study_4_1\", \"Study_4_2\", \"Study_5\", \"Study_6\", \"Study_7\", \"Study_17_1\", \"Study_17_2\", \n",
    "                       \"Study_17_3\", \"Study_17_4\", \"Study_17_5\", \"Study_17_6\", \"Study_20\", \"Study_21\", \"Study_24\", \"Study_29_1\", \"Study_29_2\", \"Study_29_3\",\n",
    "                       \"Study_29_4\",  \"Study_30\"]       #Studies with Actin and Tubulin"
   ]
  },
  {
   "cell_type": "code",
   "execution_count": 88,
   "id": "55a5e62f-b449-4cba-871a-a43e3c617d11",
   "metadata": {},
   "outputs": [],
   "source": [
    "path = '/media/local-admin/galaxy/lightmycells_storage/images/Study_DIC/Study_18/'\n",
    "img_files = glob.glob(path + '*z*')\n",
    "ch1_files = glob.glob(path + '*Nuc*')\n",
    "ch2_files = glob.glob(path + '*Mito*')\n",
    "ch3_files = glob.glob(path + '*Actin*')\n",
    "ch4_files = glob.glob(path + '*Tub*')"
   ]
  },
  {
   "cell_type": "code",
   "execution_count": 89,
   "id": "3243ce99-5882-4e31-bcbb-9dc4bdffe1e2",
   "metadata": {},
   "outputs": [],
   "source": [
    "#def tile_image(image, patch_size=(256, 256), overlap=(0, 0)):\n",
    "#    if image is None:\n",
    "#        print(\"Error: Input image is None\")\n",
    "#        return\n",
    "#\n",
    "#    if len(image.shape) != 3:\n",
    "#        print(\"Error: Input image should be a 3-dimensional array (height x width x channels)\")\n",
    "#        return\n",
    "#        \n",
    "#    height, width = image.shape[-2:]\n",
    "#    patch_height, patch_width = patch_size\n",
    "#    overlap_height, overlap_width = overlap\n",
    "\n",
    "#    patches = []\n",
    "\n",
    "#    # Calculate the number of patches in both dimensions\n",
    "#    num_patches_height = (height - overlap_height) // (patch_height - overlap_height) + 1\n",
    "#    num_patches_width = (width - overlap_width) // (patch_width - overlap_width) + 1\n",
    "\n",
    "#    # Iterate over each patch position\n",
    "#    for i in range(num_patches_height):\n",
    "#        for j in range(num_patches_width):\n",
    "#            # Calculate patch start and end positions\n",
    "            \n",
    "            \n",
    "#            start_h = i * (patch_height - overlap_height)\n",
    "#            end_h = min(start_h + patch_height, height)\n",
    "#            if(end_h - start_h < 256):\n",
    "#                start_h = (end_h - 256)\n",
    "            \n",
    "            \n",
    "#            start_w = j * (patch_width - overlap_width)\n",
    "#            end_w = min(start_w + patch_width, width)\n",
    "#            if(end_w - start_w < 256):\n",
    "#                start_w = (end_w - 256)\n",
    "            \n",
    "\n",
    "#            # Extract the patch\n",
    "#            patch = image[:,start_h:end_h, start_w:end_w]\n",
    "\n",
    "#            # Append the patch to the list\n",
    "#            patches.append(patch)\n",
    "\n",
    "#    return patches"
   ]
  },
  {
   "cell_type": "code",
   "execution_count": 90,
   "id": "9adaec2e-ad20-431e-be99-dc992ddb31dd",
   "metadata": {},
   "outputs": [],
   "source": [
    "def natural_sort_key(s):\n",
    "    \"\"\"Key function for natural sorting.\"\"\"\n",
    "    return [int(text) if text.isdigit() else text.lower() for text in re.split(r'(\\d+)', s)]\n",
    "\n",
    "def min_max_normalize(image):\n",
    "    min_val = np.min(image)\n",
    "    max_val = np.max(image)\n",
    "    normalized_image = (image - min_val) / (max_val - min_val)\n",
    "    return normalized_image\n",
    "    \n",
    "def z_score_normalize(image):\n",
    "    mean_val = np.mean(image)\n",
    "    std_val = np.std(image)\n",
    "    normalized_image = (image - mean_val) / std_val\n",
    "    return normalized_image\n",
    "\n",
    "def percentile_normalization(image, pmin=2, pmax=99.8, axis=None, dtype=np.uint16 ):\n",
    "    '''\n",
    "    Compute a percentile normalization for the given image.\n",
    "\n",
    "    Parameters:\n",
    "    - image (array): array of the image file.\n",
    "    - pmin  (int or float): the minimal percentage for the percentiles to compute. \n",
    "                            Values must be between 0 and 100 inclusive.\n",
    "    - pmax  (int or float): the maximal percentage for the percentiles to compute. \n",
    "                            Values must be between 0 and 100 inclusive.\n",
    "    - axis : Axis or axes along which the percentiles are computed. \n",
    "             The default (=None) is to compute it along a flattened version of the array.\n",
    "    - dtype (dtype): type of the wanted percentiles (uint16 by default)\n",
    "\n",
    "    Returns:\n",
    "    Normalized image (np.ndarray): An array containing the normalized image.\n",
    "    '''\n",
    "\n",
    "    if not (np.isscalar(pmin) and np.isscalar(pmax) and 0 <= pmin < pmax <= 100 ):\n",
    "        raise ValueError(\"Invalid values for pmin and pmax\")\n",
    "\n",
    "    low_p  = np.percentile(image, pmin, axis=axis, keepdims=True)\n",
    "    high_p = np.percentile(image, pmax, axis=axis, keepdims=True)\n",
    "\n",
    "    if low_p == high_p:\n",
    "        img_norm = image\n",
    "        print(f\"Same min {low_p} and high {high_p}, image may be empty\")\n",
    "\n",
    "    else:\n",
    "        dtype_max = np.iinfo(dtype).max\n",
    "        img_norm = dtype_max * (image - low_p) / (high_p - low_p)\n",
    "        img_norm = img_norm.astype(dtype)\n",
    "\n",
    "    return img_norm"
   ]
  },
  {
   "cell_type": "code",
   "execution_count": 91,
   "id": "4922fd52-02d3-4dce-8758-b83633e8761f",
   "metadata": {},
   "outputs": [],
   "source": [
    "img_files = sorted(img_files, key=natural_sort_key)\n",
    "ch1_files = sorted(ch1_files, key=natural_sort_key)\n",
    "ch2_files = sorted(ch2_files, key=natural_sort_key)\n",
    "ch3_files = sorted(ch3_files, key=natural_sort_key)\n",
    "ch4_files = sorted(ch4_files, key=natural_sort_key)"
   ]
  },
  {
   "cell_type": "code",
   "execution_count": 92,
   "id": "938e4b9d-6e53-45bf-b9ab-af485f43a250",
   "metadata": {
    "scrolled": true
   },
   "outputs": [
    {
     "name": "stdout",
     "output_type": "stream",
     "text": [
      "/media/local-admin/galaxy/lightmycells_storage/images/Study_DIC/Study_18/image_252_DIC_z0.ome.tiff\n",
      "/media/local-admin/galaxy/lightmycells_storage/images/Study_DIC/Study_18/image_252_DIC_z1.ome.tiff\n",
      "/media/local-admin/galaxy/lightmycells_storage/images/Study_DIC/Study_18/image_252_DIC_z2.ome.tiff\n",
      "/media/local-admin/galaxy/lightmycells_storage/images/Study_DIC/Study_18/image_252_DIC_z3.ome.tiff\n",
      "/media/local-admin/galaxy/lightmycells_storage/images/Study_DIC/Study_18/image_252_DIC_z4.ome.tiff\n",
      "/media/local-admin/galaxy/lightmycells_storage/images/Study_DIC/Study_18/image_252_DIC_z5.ome.tiff\n",
      "/media/local-admin/galaxy/lightmycells_storage/images/Study_DIC/Study_18/image_252_DIC_z6.ome.tiff\n",
      "/media/local-admin/galaxy/lightmycells_storage/images/Study_DIC/Study_18/image_252_DIC_z7.ome.tiff\n",
      "/media/local-admin/galaxy/lightmycells_storage/images/Study_DIC/Study_18/image_252_DIC_z8.ome.tiff\n",
      "/media/local-admin/galaxy/lightmycells_storage/images/Study_DIC/Study_18/image_253_DIC_z0.ome.tiff\n",
      "/media/local-admin/galaxy/lightmycells_storage/images/Study_DIC/Study_18/image_253_DIC_z1.ome.tiff\n",
      "/media/local-admin/galaxy/lightmycells_storage/images/Study_DIC/Study_18/image_253_DIC_z2.ome.tiff\n",
      "/media/local-admin/galaxy/lightmycells_storage/images/Study_DIC/Study_18/image_253_DIC_z3.ome.tiff\n",
      "/media/local-admin/galaxy/lightmycells_storage/images/Study_DIC/Study_18/image_253_DIC_z4.ome.tiff\n",
      "/media/local-admin/galaxy/lightmycells_storage/images/Study_DIC/Study_18/image_253_DIC_z5.ome.tiff\n",
      "/media/local-admin/galaxy/lightmycells_storage/images/Study_DIC/Study_18/image_253_DIC_z6.ome.tiff\n",
      "/media/local-admin/galaxy/lightmycells_storage/images/Study_DIC/Study_18/image_253_DIC_z7.ome.tiff\n",
      "/media/local-admin/galaxy/lightmycells_storage/images/Study_DIC/Study_18/image_253_DIC_z8.ome.tiff\n",
      "/media/local-admin/galaxy/lightmycells_storage/images/Study_DIC/Study_18/image_254_DIC_z0.ome.tiff\n",
      "/media/local-admin/galaxy/lightmycells_storage/images/Study_DIC/Study_18/image_254_DIC_z1.ome.tiff\n",
      "/media/local-admin/galaxy/lightmycells_storage/images/Study_DIC/Study_18/image_254_DIC_z2.ome.tiff\n",
      "/media/local-admin/galaxy/lightmycells_storage/images/Study_DIC/Study_18/image_254_DIC_z3.ome.tiff\n",
      "/media/local-admin/galaxy/lightmycells_storage/images/Study_DIC/Study_18/image_254_DIC_z4.ome.tiff\n",
      "/media/local-admin/galaxy/lightmycells_storage/images/Study_DIC/Study_18/image_254_DIC_z5.ome.tiff\n",
      "/media/local-admin/galaxy/lightmycells_storage/images/Study_DIC/Study_18/image_254_DIC_z6.ome.tiff\n",
      "/media/local-admin/galaxy/lightmycells_storage/images/Study_DIC/Study_18/image_254_DIC_z7.ome.tiff\n",
      "/media/local-admin/galaxy/lightmycells_storage/images/Study_DIC/Study_18/image_254_DIC_z8.ome.tiff\n",
      "/media/local-admin/galaxy/lightmycells_storage/images/Study_DIC/Study_18/image_255_DIC_z0.ome.tiff\n",
      "/media/local-admin/galaxy/lightmycells_storage/images/Study_DIC/Study_18/image_255_DIC_z1.ome.tiff\n",
      "/media/local-admin/galaxy/lightmycells_storage/images/Study_DIC/Study_18/image_255_DIC_z2.ome.tiff\n",
      "/media/local-admin/galaxy/lightmycells_storage/images/Study_DIC/Study_18/image_255_DIC_z3.ome.tiff\n",
      "/media/local-admin/galaxy/lightmycells_storage/images/Study_DIC/Study_18/image_255_DIC_z4.ome.tiff\n",
      "/media/local-admin/galaxy/lightmycells_storage/images/Study_DIC/Study_18/image_255_DIC_z5.ome.tiff\n",
      "/media/local-admin/galaxy/lightmycells_storage/images/Study_DIC/Study_18/image_255_DIC_z6.ome.tiff\n",
      "/media/local-admin/galaxy/lightmycells_storage/images/Study_DIC/Study_18/image_255_DIC_z7.ome.tiff\n",
      "/media/local-admin/galaxy/lightmycells_storage/images/Study_DIC/Study_18/image_255_DIC_z8.ome.tiff\n",
      "/media/local-admin/galaxy/lightmycells_storage/images/Study_DIC/Study_18/image_256_DIC_z0.ome.tiff\n",
      "/media/local-admin/galaxy/lightmycells_storage/images/Study_DIC/Study_18/image_256_DIC_z1.ome.tiff\n",
      "/media/local-admin/galaxy/lightmycells_storage/images/Study_DIC/Study_18/image_256_DIC_z2.ome.tiff\n",
      "/media/local-admin/galaxy/lightmycells_storage/images/Study_DIC/Study_18/image_256_DIC_z3.ome.tiff\n",
      "/media/local-admin/galaxy/lightmycells_storage/images/Study_DIC/Study_18/image_256_DIC_z4.ome.tiff\n",
      "/media/local-admin/galaxy/lightmycells_storage/images/Study_DIC/Study_18/image_256_DIC_z5.ome.tiff\n",
      "/media/local-admin/galaxy/lightmycells_storage/images/Study_DIC/Study_18/image_256_DIC_z6.ome.tiff\n",
      "/media/local-admin/galaxy/lightmycells_storage/images/Study_DIC/Study_18/image_256_DIC_z7.ome.tiff\n",
      "/media/local-admin/galaxy/lightmycells_storage/images/Study_DIC/Study_18/image_256_DIC_z8.ome.tiff\n",
      "/media/local-admin/galaxy/lightmycells_storage/images/Study_DIC/Study_18/image_257_DIC_z0.ome.tiff\n",
      "/media/local-admin/galaxy/lightmycells_storage/images/Study_DIC/Study_18/image_257_DIC_z1.ome.tiff\n",
      "/media/local-admin/galaxy/lightmycells_storage/images/Study_DIC/Study_18/image_257_DIC_z2.ome.tiff\n",
      "/media/local-admin/galaxy/lightmycells_storage/images/Study_DIC/Study_18/image_257_DIC_z3.ome.tiff\n",
      "/media/local-admin/galaxy/lightmycells_storage/images/Study_DIC/Study_18/image_257_DIC_z4.ome.tiff\n",
      "/media/local-admin/galaxy/lightmycells_storage/images/Study_DIC/Study_18/image_257_DIC_z5.ome.tiff\n",
      "/media/local-admin/galaxy/lightmycells_storage/images/Study_DIC/Study_18/image_257_DIC_z6.ome.tiff\n",
      "/media/local-admin/galaxy/lightmycells_storage/images/Study_DIC/Study_18/image_257_DIC_z7.ome.tiff\n",
      "/media/local-admin/galaxy/lightmycells_storage/images/Study_DIC/Study_18/image_257_DIC_z8.ome.tiff\n",
      "/media/local-admin/galaxy/lightmycells_storage/images/Study_DIC/Study_18/image_258_DIC_z0.ome.tiff\n",
      "/media/local-admin/galaxy/lightmycells_storage/images/Study_DIC/Study_18/image_258_DIC_z1.ome.tiff\n",
      "/media/local-admin/galaxy/lightmycells_storage/images/Study_DIC/Study_18/image_258_DIC_z2.ome.tiff\n",
      "/media/local-admin/galaxy/lightmycells_storage/images/Study_DIC/Study_18/image_258_DIC_z3.ome.tiff\n",
      "/media/local-admin/galaxy/lightmycells_storage/images/Study_DIC/Study_18/image_258_DIC_z4.ome.tiff\n",
      "/media/local-admin/galaxy/lightmycells_storage/images/Study_DIC/Study_18/image_258_DIC_z5.ome.tiff\n",
      "/media/local-admin/galaxy/lightmycells_storage/images/Study_DIC/Study_18/image_258_DIC_z6.ome.tiff\n",
      "/media/local-admin/galaxy/lightmycells_storage/images/Study_DIC/Study_18/image_258_DIC_z7.ome.tiff\n",
      "/media/local-admin/galaxy/lightmycells_storage/images/Study_DIC/Study_18/image_258_DIC_z8.ome.tiff\n",
      "/media/local-admin/galaxy/lightmycells_storage/images/Study_DIC/Study_18/image_259_DIC_z0.ome.tiff\n",
      "/media/local-admin/galaxy/lightmycells_storage/images/Study_DIC/Study_18/image_259_DIC_z1.ome.tiff\n",
      "/media/local-admin/galaxy/lightmycells_storage/images/Study_DIC/Study_18/image_259_DIC_z2.ome.tiff\n",
      "/media/local-admin/galaxy/lightmycells_storage/images/Study_DIC/Study_18/image_259_DIC_z3.ome.tiff\n",
      "/media/local-admin/galaxy/lightmycells_storage/images/Study_DIC/Study_18/image_259_DIC_z4.ome.tiff\n",
      "/media/local-admin/galaxy/lightmycells_storage/images/Study_DIC/Study_18/image_259_DIC_z5.ome.tiff\n",
      "/media/local-admin/galaxy/lightmycells_storage/images/Study_DIC/Study_18/image_259_DIC_z6.ome.tiff\n",
      "/media/local-admin/galaxy/lightmycells_storage/images/Study_DIC/Study_18/image_259_DIC_z7.ome.tiff\n",
      "/media/local-admin/galaxy/lightmycells_storage/images/Study_DIC/Study_18/image_259_DIC_z8.ome.tiff\n",
      "/media/local-admin/galaxy/lightmycells_storage/images/Study_DIC/Study_18/image_260_DIC_z0.ome.tiff\n",
      "/media/local-admin/galaxy/lightmycells_storage/images/Study_DIC/Study_18/image_260_DIC_z1.ome.tiff\n",
      "/media/local-admin/galaxy/lightmycells_storage/images/Study_DIC/Study_18/image_260_DIC_z2.ome.tiff\n",
      "/media/local-admin/galaxy/lightmycells_storage/images/Study_DIC/Study_18/image_260_DIC_z3.ome.tiff\n",
      "/media/local-admin/galaxy/lightmycells_storage/images/Study_DIC/Study_18/image_260_DIC_z4.ome.tiff\n",
      "/media/local-admin/galaxy/lightmycells_storage/images/Study_DIC/Study_18/image_260_DIC_z5.ome.tiff\n",
      "/media/local-admin/galaxy/lightmycells_storage/images/Study_DIC/Study_18/image_260_DIC_z6.ome.tiff\n",
      "/media/local-admin/galaxy/lightmycells_storage/images/Study_DIC/Study_18/image_260_DIC_z7.ome.tiff\n",
      "/media/local-admin/galaxy/lightmycells_storage/images/Study_DIC/Study_18/image_260_DIC_z8.ome.tiff\n",
      "/media/local-admin/galaxy/lightmycells_storage/images/Study_DIC/Study_18/image_261_DIC_z0.ome.tiff\n",
      "/media/local-admin/galaxy/lightmycells_storage/images/Study_DIC/Study_18/image_261_DIC_z1.ome.tiff\n",
      "/media/local-admin/galaxy/lightmycells_storage/images/Study_DIC/Study_18/image_261_DIC_z2.ome.tiff\n",
      "/media/local-admin/galaxy/lightmycells_storage/images/Study_DIC/Study_18/image_261_DIC_z3.ome.tiff\n",
      "/media/local-admin/galaxy/lightmycells_storage/images/Study_DIC/Study_18/image_261_DIC_z4.ome.tiff\n",
      "/media/local-admin/galaxy/lightmycells_storage/images/Study_DIC/Study_18/image_261_DIC_z5.ome.tiff\n",
      "/media/local-admin/galaxy/lightmycells_storage/images/Study_DIC/Study_18/image_261_DIC_z6.ome.tiff\n",
      "/media/local-admin/galaxy/lightmycells_storage/images/Study_DIC/Study_18/image_261_DIC_z7.ome.tiff\n",
      "/media/local-admin/galaxy/lightmycells_storage/images/Study_DIC/Study_18/image_261_DIC_z8.ome.tiff\n",
      "/media/local-admin/galaxy/lightmycells_storage/images/Study_DIC/Study_18/image_262_DIC_z0.ome.tiff\n",
      "/media/local-admin/galaxy/lightmycells_storage/images/Study_DIC/Study_18/image_262_DIC_z1.ome.tiff\n",
      "/media/local-admin/galaxy/lightmycells_storage/images/Study_DIC/Study_18/image_262_DIC_z2.ome.tiff\n",
      "/media/local-admin/galaxy/lightmycells_storage/images/Study_DIC/Study_18/image_262_DIC_z3.ome.tiff\n",
      "/media/local-admin/galaxy/lightmycells_storage/images/Study_DIC/Study_18/image_262_DIC_z4.ome.tiff\n",
      "/media/local-admin/galaxy/lightmycells_storage/images/Study_DIC/Study_18/image_262_DIC_z5.ome.tiff\n",
      "/media/local-admin/galaxy/lightmycells_storage/images/Study_DIC/Study_18/image_262_DIC_z6.ome.tiff\n",
      "/media/local-admin/galaxy/lightmycells_storage/images/Study_DIC/Study_18/image_262_DIC_z7.ome.tiff\n",
      "/media/local-admin/galaxy/lightmycells_storage/images/Study_DIC/Study_18/image_262_DIC_z8.ome.tiff\n",
      "/media/local-admin/galaxy/lightmycells_storage/images/Study_DIC/Study_18/image_263_DIC_z0.ome.tiff\n",
      "/media/local-admin/galaxy/lightmycells_storage/images/Study_DIC/Study_18/image_263_DIC_z1.ome.tiff\n",
      "/media/local-admin/galaxy/lightmycells_storage/images/Study_DIC/Study_18/image_263_DIC_z2.ome.tiff\n",
      "/media/local-admin/galaxy/lightmycells_storage/images/Study_DIC/Study_18/image_263_DIC_z3.ome.tiff\n",
      "/media/local-admin/galaxy/lightmycells_storage/images/Study_DIC/Study_18/image_263_DIC_z4.ome.tiff\n",
      "/media/local-admin/galaxy/lightmycells_storage/images/Study_DIC/Study_18/image_263_DIC_z5.ome.tiff\n",
      "/media/local-admin/galaxy/lightmycells_storage/images/Study_DIC/Study_18/image_263_DIC_z6.ome.tiff\n",
      "/media/local-admin/galaxy/lightmycells_storage/images/Study_DIC/Study_18/image_263_DIC_z7.ome.tiff\n",
      "/media/local-admin/galaxy/lightmycells_storage/images/Study_DIC/Study_18/image_263_DIC_z8.ome.tiff\n",
      "/media/local-admin/galaxy/lightmycells_storage/images/Study_DIC/Study_18/image_264_DIC_z0.ome.tiff\n",
      "/media/local-admin/galaxy/lightmycells_storage/images/Study_DIC/Study_18/image_264_DIC_z1.ome.tiff\n",
      "/media/local-admin/galaxy/lightmycells_storage/images/Study_DIC/Study_18/image_264_DIC_z2.ome.tiff\n",
      "/media/local-admin/galaxy/lightmycells_storage/images/Study_DIC/Study_18/image_264_DIC_z3.ome.tiff\n",
      "/media/local-admin/galaxy/lightmycells_storage/images/Study_DIC/Study_18/image_264_DIC_z4.ome.tiff\n",
      "/media/local-admin/galaxy/lightmycells_storage/images/Study_DIC/Study_18/image_264_DIC_z5.ome.tiff\n",
      "/media/local-admin/galaxy/lightmycells_storage/images/Study_DIC/Study_18/image_264_DIC_z6.ome.tiff\n",
      "/media/local-admin/galaxy/lightmycells_storage/images/Study_DIC/Study_18/image_264_DIC_z7.ome.tiff\n",
      "/media/local-admin/galaxy/lightmycells_storage/images/Study_DIC/Study_18/image_264_DIC_z8.ome.tiff\n",
      "/media/local-admin/galaxy/lightmycells_storage/images/Study_DIC/Study_18/image_265_DIC_z0.ome.tiff\n",
      "/media/local-admin/galaxy/lightmycells_storage/images/Study_DIC/Study_18/image_265_DIC_z1.ome.tiff\n",
      "/media/local-admin/galaxy/lightmycells_storage/images/Study_DIC/Study_18/image_265_DIC_z2.ome.tiff\n",
      "/media/local-admin/galaxy/lightmycells_storage/images/Study_DIC/Study_18/image_265_DIC_z3.ome.tiff\n",
      "/media/local-admin/galaxy/lightmycells_storage/images/Study_DIC/Study_18/image_265_DIC_z4.ome.tiff\n",
      "/media/local-admin/galaxy/lightmycells_storage/images/Study_DIC/Study_18/image_265_DIC_z5.ome.tiff\n",
      "/media/local-admin/galaxy/lightmycells_storage/images/Study_DIC/Study_18/image_265_DIC_z6.ome.tiff\n",
      "/media/local-admin/galaxy/lightmycells_storage/images/Study_DIC/Study_18/image_265_DIC_z7.ome.tiff\n",
      "/media/local-admin/galaxy/lightmycells_storage/images/Study_DIC/Study_18/image_265_DIC_z8.ome.tiff\n",
      "/media/local-admin/galaxy/lightmycells_storage/images/Study_DIC/Study_18/image_266_DIC_z0.ome.tiff\n",
      "/media/local-admin/galaxy/lightmycells_storage/images/Study_DIC/Study_18/image_266_DIC_z1.ome.tiff\n",
      "/media/local-admin/galaxy/lightmycells_storage/images/Study_DIC/Study_18/image_266_DIC_z2.ome.tiff\n",
      "/media/local-admin/galaxy/lightmycells_storage/images/Study_DIC/Study_18/image_266_DIC_z3.ome.tiff\n",
      "/media/local-admin/galaxy/lightmycells_storage/images/Study_DIC/Study_18/image_266_DIC_z4.ome.tiff\n",
      "/media/local-admin/galaxy/lightmycells_storage/images/Study_DIC/Study_18/image_266_DIC_z5.ome.tiff\n",
      "/media/local-admin/galaxy/lightmycells_storage/images/Study_DIC/Study_18/image_266_DIC_z6.ome.tiff\n",
      "/media/local-admin/galaxy/lightmycells_storage/images/Study_DIC/Study_18/image_266_DIC_z7.ome.tiff\n",
      "/media/local-admin/galaxy/lightmycells_storage/images/Study_DIC/Study_18/image_266_DIC_z8.ome.tiff\n",
      "/media/local-admin/galaxy/lightmycells_storage/images/Study_DIC/Study_18/image_267_DIC_z0.ome.tiff\n",
      "/media/local-admin/galaxy/lightmycells_storage/images/Study_DIC/Study_18/image_267_DIC_z1.ome.tiff\n",
      "/media/local-admin/galaxy/lightmycells_storage/images/Study_DIC/Study_18/image_267_DIC_z2.ome.tiff\n",
      "/media/local-admin/galaxy/lightmycells_storage/images/Study_DIC/Study_18/image_267_DIC_z3.ome.tiff\n",
      "/media/local-admin/galaxy/lightmycells_storage/images/Study_DIC/Study_18/image_267_DIC_z4.ome.tiff\n",
      "/media/local-admin/galaxy/lightmycells_storage/images/Study_DIC/Study_18/image_267_DIC_z5.ome.tiff\n",
      "/media/local-admin/galaxy/lightmycells_storage/images/Study_DIC/Study_18/image_267_DIC_z6.ome.tiff\n",
      "/media/local-admin/galaxy/lightmycells_storage/images/Study_DIC/Study_18/image_267_DIC_z7.ome.tiff\n",
      "/media/local-admin/galaxy/lightmycells_storage/images/Study_DIC/Study_18/image_267_DIC_z8.ome.tiff\n",
      "/media/local-admin/galaxy/lightmycells_storage/images/Study_DIC/Study_18/image_268_DIC_z0.ome.tiff\n",
      "/media/local-admin/galaxy/lightmycells_storage/images/Study_DIC/Study_18/image_268_DIC_z1.ome.tiff\n",
      "/media/local-admin/galaxy/lightmycells_storage/images/Study_DIC/Study_18/image_268_DIC_z2.ome.tiff\n",
      "/media/local-admin/galaxy/lightmycells_storage/images/Study_DIC/Study_18/image_268_DIC_z3.ome.tiff\n",
      "/media/local-admin/galaxy/lightmycells_storage/images/Study_DIC/Study_18/image_268_DIC_z4.ome.tiff\n",
      "/media/local-admin/galaxy/lightmycells_storage/images/Study_DIC/Study_18/image_268_DIC_z5.ome.tiff\n",
      "/media/local-admin/galaxy/lightmycells_storage/images/Study_DIC/Study_18/image_268_DIC_z6.ome.tiff\n",
      "/media/local-admin/galaxy/lightmycells_storage/images/Study_DIC/Study_18/image_268_DIC_z7.ome.tiff\n",
      "/media/local-admin/galaxy/lightmycells_storage/images/Study_DIC/Study_18/image_268_DIC_z8.ome.tiff\n",
      "/media/local-admin/galaxy/lightmycells_storage/images/Study_DIC/Study_18/image_269_DIC_z0.ome.tiff\n",
      "/media/local-admin/galaxy/lightmycells_storage/images/Study_DIC/Study_18/image_269_DIC_z1.ome.tiff\n",
      "/media/local-admin/galaxy/lightmycells_storage/images/Study_DIC/Study_18/image_269_DIC_z2.ome.tiff\n",
      "/media/local-admin/galaxy/lightmycells_storage/images/Study_DIC/Study_18/image_269_DIC_z3.ome.tiff\n",
      "/media/local-admin/galaxy/lightmycells_storage/images/Study_DIC/Study_18/image_269_DIC_z4.ome.tiff\n",
      "/media/local-admin/galaxy/lightmycells_storage/images/Study_DIC/Study_18/image_269_DIC_z5.ome.tiff\n",
      "/media/local-admin/galaxy/lightmycells_storage/images/Study_DIC/Study_18/image_269_DIC_z6.ome.tiff\n",
      "/media/local-admin/galaxy/lightmycells_storage/images/Study_DIC/Study_18/image_269_DIC_z7.ome.tiff\n",
      "/media/local-admin/galaxy/lightmycells_storage/images/Study_DIC/Study_18/image_269_DIC_z8.ome.tiff\n",
      "/media/local-admin/galaxy/lightmycells_storage/images/Study_DIC/Study_18/image_270_DIC_z0.ome.tiff\n",
      "/media/local-admin/galaxy/lightmycells_storage/images/Study_DIC/Study_18/image_270_DIC_z1.ome.tiff\n",
      "/media/local-admin/galaxy/lightmycells_storage/images/Study_DIC/Study_18/image_270_DIC_z2.ome.tiff\n",
      "/media/local-admin/galaxy/lightmycells_storage/images/Study_DIC/Study_18/image_270_DIC_z3.ome.tiff\n",
      "/media/local-admin/galaxy/lightmycells_storage/images/Study_DIC/Study_18/image_270_DIC_z4.ome.tiff\n",
      "/media/local-admin/galaxy/lightmycells_storage/images/Study_DIC/Study_18/image_270_DIC_z5.ome.tiff\n",
      "/media/local-admin/galaxy/lightmycells_storage/images/Study_DIC/Study_18/image_270_DIC_z6.ome.tiff\n",
      "/media/local-admin/galaxy/lightmycells_storage/images/Study_DIC/Study_18/image_270_DIC_z7.ome.tiff\n",
      "/media/local-admin/galaxy/lightmycells_storage/images/Study_DIC/Study_18/image_270_DIC_z8.ome.tiff\n",
      "/media/local-admin/galaxy/lightmycells_storage/images/Study_DIC/Study_18/image_271_DIC_z0.ome.tiff\n",
      "/media/local-admin/galaxy/lightmycells_storage/images/Study_DIC/Study_18/image_271_DIC_z1.ome.tiff\n",
      "/media/local-admin/galaxy/lightmycells_storage/images/Study_DIC/Study_18/image_271_DIC_z2.ome.tiff\n",
      "/media/local-admin/galaxy/lightmycells_storage/images/Study_DIC/Study_18/image_271_DIC_z3.ome.tiff\n",
      "/media/local-admin/galaxy/lightmycells_storage/images/Study_DIC/Study_18/image_271_DIC_z4.ome.tiff\n",
      "/media/local-admin/galaxy/lightmycells_storage/images/Study_DIC/Study_18/image_271_DIC_z5.ome.tiff\n",
      "/media/local-admin/galaxy/lightmycells_storage/images/Study_DIC/Study_18/image_271_DIC_z6.ome.tiff\n",
      "/media/local-admin/galaxy/lightmycells_storage/images/Study_DIC/Study_18/image_271_DIC_z7.ome.tiff\n",
      "/media/local-admin/galaxy/lightmycells_storage/images/Study_DIC/Study_18/image_271_DIC_z8.ome.tiff\n",
      "/media/local-admin/galaxy/lightmycells_storage/images/Study_DIC/Study_18/image_272_DIC_z0.ome.tiff\n",
      "/media/local-admin/galaxy/lightmycells_storage/images/Study_DIC/Study_18/image_272_DIC_z1.ome.tiff\n",
      "/media/local-admin/galaxy/lightmycells_storage/images/Study_DIC/Study_18/image_272_DIC_z2.ome.tiff\n",
      "/media/local-admin/galaxy/lightmycells_storage/images/Study_DIC/Study_18/image_272_DIC_z3.ome.tiff\n",
      "/media/local-admin/galaxy/lightmycells_storage/images/Study_DIC/Study_18/image_272_DIC_z4.ome.tiff\n",
      "/media/local-admin/galaxy/lightmycells_storage/images/Study_DIC/Study_18/image_272_DIC_z5.ome.tiff\n",
      "/media/local-admin/galaxy/lightmycells_storage/images/Study_DIC/Study_18/image_272_DIC_z6.ome.tiff\n",
      "/media/local-admin/galaxy/lightmycells_storage/images/Study_DIC/Study_18/image_272_DIC_z7.ome.tiff\n",
      "/media/local-admin/galaxy/lightmycells_storage/images/Study_DIC/Study_18/image_272_DIC_z8.ome.tiff\n",
      "/media/local-admin/galaxy/lightmycells_storage/images/Study_DIC/Study_18/image_273_DIC_z0.ome.tiff\n",
      "/media/local-admin/galaxy/lightmycells_storage/images/Study_DIC/Study_18/image_273_DIC_z1.ome.tiff\n",
      "/media/local-admin/galaxy/lightmycells_storage/images/Study_DIC/Study_18/image_273_DIC_z2.ome.tiff\n",
      "/media/local-admin/galaxy/lightmycells_storage/images/Study_DIC/Study_18/image_273_DIC_z3.ome.tiff\n",
      "/media/local-admin/galaxy/lightmycells_storage/images/Study_DIC/Study_18/image_273_DIC_z4.ome.tiff\n",
      "/media/local-admin/galaxy/lightmycells_storage/images/Study_DIC/Study_18/image_273_DIC_z5.ome.tiff\n",
      "/media/local-admin/galaxy/lightmycells_storage/images/Study_DIC/Study_18/image_273_DIC_z6.ome.tiff\n",
      "/media/local-admin/galaxy/lightmycells_storage/images/Study_DIC/Study_18/image_273_DIC_z7.ome.tiff\n",
      "/media/local-admin/galaxy/lightmycells_storage/images/Study_DIC/Study_18/image_273_DIC_z8.ome.tiff\n",
      "/media/local-admin/galaxy/lightmycells_storage/images/Study_DIC/Study_18/image_274_DIC_z0.ome.tiff\n",
      "/media/local-admin/galaxy/lightmycells_storage/images/Study_DIC/Study_18/image_274_DIC_z1.ome.tiff\n",
      "/media/local-admin/galaxy/lightmycells_storage/images/Study_DIC/Study_18/image_274_DIC_z2.ome.tiff\n",
      "/media/local-admin/galaxy/lightmycells_storage/images/Study_DIC/Study_18/image_274_DIC_z3.ome.tiff\n",
      "/media/local-admin/galaxy/lightmycells_storage/images/Study_DIC/Study_18/image_274_DIC_z4.ome.tiff\n",
      "/media/local-admin/galaxy/lightmycells_storage/images/Study_DIC/Study_18/image_274_DIC_z5.ome.tiff\n",
      "/media/local-admin/galaxy/lightmycells_storage/images/Study_DIC/Study_18/image_274_DIC_z6.ome.tiff\n",
      "/media/local-admin/galaxy/lightmycells_storage/images/Study_DIC/Study_18/image_274_DIC_z7.ome.tiff\n",
      "/media/local-admin/galaxy/lightmycells_storage/images/Study_DIC/Study_18/image_274_DIC_z8.ome.tiff\n"
     ]
    }
   ],
   "source": [
    "for file in img_files:\n",
    "    print(file)"
   ]
  },
  {
   "cell_type": "code",
   "execution_count": 93,
   "id": "4f9173fb-cc70-4bea-9078-ed278eae6d7f",
   "metadata": {},
   "outputs": [
    {
     "name": "stdout",
     "output_type": "stream",
     "text": [
      "Image files: 207\n",
      "Nuc files: 23\n",
      "Mito files: 23\n",
      "Actin files: 0\n",
      "Tub files: 0\n"
     ]
    }
   ],
   "source": [
    "print(f\"Image files: {len(img_files)}\")\n",
    "print(f\"Nuc files: {len(ch1_files)}\")\n",
    "print(f\"Mito files: {len(ch2_files)}\")\n",
    "print(f\"Actin files: {len(ch3_files)}\")\n",
    "print(f\"Tub files: {len(ch4_files)}\")"
   ]
  },
  {
   "cell_type": "markdown",
   "id": "947dab82-3f40-403b-abf8-02fb09539516",
   "metadata": {},
   "source": [
    "### Identify missing targets from channels"
   ]
  },
  {
   "cell_type": "code",
   "execution_count": 94,
   "id": "7e41ae1c-686b-4787-8867-6094b3a21f0a",
   "metadata": {},
   "outputs": [],
   "source": [
    "channel_lists = [ch1_files, ch2_files, ch3_files, ch4_files]  "
   ]
  },
  {
   "cell_type": "code",
   "execution_count": 95,
   "id": "3d7a910d-61d3-4546-861e-9530785d7b6d",
   "metadata": {},
   "outputs": [],
   "source": [
    "all_channels = []\n",
    "\n",
    "for channel in channel_lists:\n",
    "    all_channels.extend(channel)"
   ]
  },
  {
   "cell_type": "code",
   "execution_count": 96,
   "id": "d324f88f-2769-4b79-bd32-0adead05dfad",
   "metadata": {
    "scrolled": true
   },
   "outputs": [
    {
     "data": {
      "text/plain": [
       "['/media/local-admin/galaxy/lightmycells_storage/images/Study_DIC/Study_18/image_252_Nucleus.ome.tiff',\n",
       " '/media/local-admin/galaxy/lightmycells_storage/images/Study_DIC/Study_18/image_253_Nucleus.ome.tiff',\n",
       " '/media/local-admin/galaxy/lightmycells_storage/images/Study_DIC/Study_18/image_254_Nucleus.ome.tiff',\n",
       " '/media/local-admin/galaxy/lightmycells_storage/images/Study_DIC/Study_18/image_255_Nucleus.ome.tiff',\n",
       " '/media/local-admin/galaxy/lightmycells_storage/images/Study_DIC/Study_18/image_256_Nucleus.ome.tiff',\n",
       " '/media/local-admin/galaxy/lightmycells_storage/images/Study_DIC/Study_18/image_257_Nucleus.ome.tiff',\n",
       " '/media/local-admin/galaxy/lightmycells_storage/images/Study_DIC/Study_18/image_258_Nucleus.ome.tiff',\n",
       " '/media/local-admin/galaxy/lightmycells_storage/images/Study_DIC/Study_18/image_259_Nucleus.ome.tiff',\n",
       " '/media/local-admin/galaxy/lightmycells_storage/images/Study_DIC/Study_18/image_260_Nucleus.ome.tiff',\n",
       " '/media/local-admin/galaxy/lightmycells_storage/images/Study_DIC/Study_18/image_261_Nucleus.ome.tiff',\n",
       " '/media/local-admin/galaxy/lightmycells_storage/images/Study_DIC/Study_18/image_262_Nucleus.ome.tiff',\n",
       " '/media/local-admin/galaxy/lightmycells_storage/images/Study_DIC/Study_18/image_263_Nucleus.ome.tiff',\n",
       " '/media/local-admin/galaxy/lightmycells_storage/images/Study_DIC/Study_18/image_264_Nucleus.ome.tiff',\n",
       " '/media/local-admin/galaxy/lightmycells_storage/images/Study_DIC/Study_18/image_265_Nucleus.ome.tiff',\n",
       " '/media/local-admin/galaxy/lightmycells_storage/images/Study_DIC/Study_18/image_266_Nucleus.ome.tiff',\n",
       " '/media/local-admin/galaxy/lightmycells_storage/images/Study_DIC/Study_18/image_267_Nucleus.ome.tiff',\n",
       " '/media/local-admin/galaxy/lightmycells_storage/images/Study_DIC/Study_18/image_268_Nucleus.ome.tiff',\n",
       " '/media/local-admin/galaxy/lightmycells_storage/images/Study_DIC/Study_18/image_269_Nucleus.ome.tiff',\n",
       " '/media/local-admin/galaxy/lightmycells_storage/images/Study_DIC/Study_18/image_270_Nucleus.ome.tiff',\n",
       " '/media/local-admin/galaxy/lightmycells_storage/images/Study_DIC/Study_18/image_271_Nucleus.ome.tiff',\n",
       " '/media/local-admin/galaxy/lightmycells_storage/images/Study_DIC/Study_18/image_272_Nucleus.ome.tiff',\n",
       " '/media/local-admin/galaxy/lightmycells_storage/images/Study_DIC/Study_18/image_273_Nucleus.ome.tiff',\n",
       " '/media/local-admin/galaxy/lightmycells_storage/images/Study_DIC/Study_18/image_274_Nucleus.ome.tiff',\n",
       " '/media/local-admin/galaxy/lightmycells_storage/images/Study_DIC/Study_18/image_252_Mitochondria.ome.tiff',\n",
       " '/media/local-admin/galaxy/lightmycells_storage/images/Study_DIC/Study_18/image_253_Mitochondria.ome.tiff',\n",
       " '/media/local-admin/galaxy/lightmycells_storage/images/Study_DIC/Study_18/image_254_Mitochondria.ome.tiff',\n",
       " '/media/local-admin/galaxy/lightmycells_storage/images/Study_DIC/Study_18/image_255_Mitochondria.ome.tiff',\n",
       " '/media/local-admin/galaxy/lightmycells_storage/images/Study_DIC/Study_18/image_256_Mitochondria.ome.tiff',\n",
       " '/media/local-admin/galaxy/lightmycells_storage/images/Study_DIC/Study_18/image_257_Mitochondria.ome.tiff',\n",
       " '/media/local-admin/galaxy/lightmycells_storage/images/Study_DIC/Study_18/image_258_Mitochondria.ome.tiff',\n",
       " '/media/local-admin/galaxy/lightmycells_storage/images/Study_DIC/Study_18/image_259_Mitochondria.ome.tiff',\n",
       " '/media/local-admin/galaxy/lightmycells_storage/images/Study_DIC/Study_18/image_260_Mitochondria.ome.tiff',\n",
       " '/media/local-admin/galaxy/lightmycells_storage/images/Study_DIC/Study_18/image_261_Mitochondria.ome.tiff',\n",
       " '/media/local-admin/galaxy/lightmycells_storage/images/Study_DIC/Study_18/image_262_Mitochondria.ome.tiff',\n",
       " '/media/local-admin/galaxy/lightmycells_storage/images/Study_DIC/Study_18/image_263_Mitochondria.ome.tiff',\n",
       " '/media/local-admin/galaxy/lightmycells_storage/images/Study_DIC/Study_18/image_264_Mitochondria.ome.tiff',\n",
       " '/media/local-admin/galaxy/lightmycells_storage/images/Study_DIC/Study_18/image_265_Mitochondria.ome.tiff',\n",
       " '/media/local-admin/galaxy/lightmycells_storage/images/Study_DIC/Study_18/image_266_Mitochondria.ome.tiff',\n",
       " '/media/local-admin/galaxy/lightmycells_storage/images/Study_DIC/Study_18/image_267_Mitochondria.ome.tiff',\n",
       " '/media/local-admin/galaxy/lightmycells_storage/images/Study_DIC/Study_18/image_268_Mitochondria.ome.tiff',\n",
       " '/media/local-admin/galaxy/lightmycells_storage/images/Study_DIC/Study_18/image_269_Mitochondria.ome.tiff',\n",
       " '/media/local-admin/galaxy/lightmycells_storage/images/Study_DIC/Study_18/image_270_Mitochondria.ome.tiff',\n",
       " '/media/local-admin/galaxy/lightmycells_storage/images/Study_DIC/Study_18/image_271_Mitochondria.ome.tiff',\n",
       " '/media/local-admin/galaxy/lightmycells_storage/images/Study_DIC/Study_18/image_272_Mitochondria.ome.tiff',\n",
       " '/media/local-admin/galaxy/lightmycells_storage/images/Study_DIC/Study_18/image_273_Mitochondria.ome.tiff',\n",
       " '/media/local-admin/galaxy/lightmycells_storage/images/Study_DIC/Study_18/image_274_Mitochondria.ome.tiff']"
      ]
     },
     "execution_count": 96,
     "metadata": {},
     "output_type": "execute_result"
    }
   ],
   "source": [
    "all_channels"
   ]
  },
  {
   "cell_type": "code",
   "execution_count": 97,
   "id": "37f0ccd0-2634-4cf0-8602-0b06ef6aba96",
   "metadata": {
    "scrolled": true
   },
   "outputs": [
    {
     "name": "stdout",
     "output_type": "stream",
     "text": [
      "Unique target identifiers:\n",
      "image_252\n",
      "image_253\n",
      "image_254\n",
      "image_255\n",
      "image_256\n",
      "image_257\n",
      "image_258\n",
      "image_259\n",
      "image_260\n",
      "image_261\n",
      "image_262\n",
      "image_263\n",
      "image_264\n",
      "image_265\n",
      "image_266\n",
      "image_267\n",
      "image_268\n",
      "image_269\n",
      "image_270\n",
      "image_271\n",
      "image_272\n",
      "image_273\n",
      "image_274\n",
      "23\n"
     ]
    }
   ],
   "source": [
    "# Example list of image filenames\n",
    "target_filenames = all_channels\n",
    "\n",
    "# Regular expression pattern to match 'image_xy'\n",
    "pattern = r\"image_\\d+\"\n",
    "\n",
    "# Extract unique 'image_xy' identifiers\n",
    "unique_target_identifiers = natsorted(set(re.findall(pattern, ' '.join(target_filenames))))\n",
    "\n",
    "max_target_count = len(unique_target_identifiers)\n",
    "\n",
    "# Print unique 'image_xy' identifiers\n",
    "print(\"Unique target identifiers:\")\n",
    "for identifier in unique_target_identifiers:\n",
    "    print(identifier)\n",
    "print(max_target_count)"
   ]
  },
  {
   "cell_type": "code",
   "execution_count": 98,
   "id": "e8c902ed-3dd2-46b9-a90e-8dddfe368ebf",
   "metadata": {
    "scrolled": true
   },
   "outputs": [
    {
     "name": "stdout",
     "output_type": "stream",
     "text": [
      "Identifiers not present in target filenames for Actin: ['image_274', 'image_253', 'image_264', 'image_263', 'image_271', 'image_262', 'image_273', 'image_254', 'image_256', 'image_269', 'image_270', 'image_252', 'image_267', 'image_260', 'image_257', 'image_272', 'image_259', 'image_261', 'image_265', 'image_266', 'image_268', 'image_258', 'image_255']\n",
      "Number of missing items: 23\n",
      "Index of missing item: 22\n",
      "Index of missing item: 1\n",
      "Index of missing item: 12\n",
      "Index of missing item: 11\n",
      "Index of missing item: 19\n",
      "Index of missing item: 10\n",
      "Index of missing item: 21\n",
      "Index of missing item: 2\n",
      "Index of missing item: 4\n",
      "Index of missing item: 17\n",
      "Index of missing item: 18\n",
      "Index of missing item: 0\n",
      "Index of missing item: 15\n",
      "Index of missing item: 8\n",
      "Index of missing item: 5\n",
      "Index of missing item: 20\n",
      "Index of missing item: 7\n",
      "Index of missing item: 9\n",
      "Index of missing item: 13\n",
      "Index of missing item: 14\n",
      "Index of missing item: 16\n",
      "Index of missing item: 6\n",
      "Index of missing item: 3\n",
      "Identifiers not present in target filenames for Tub: ['image_274', 'image_253', 'image_264', 'image_263', 'image_271', 'image_262', 'image_273', 'image_254', 'image_256', 'image_269', 'image_270', 'image_252', 'image_267', 'image_260', 'image_257', 'image_272', 'image_259', 'image_261', 'image_265', 'image_266', 'image_268', 'image_258', 'image_255']\n",
      "Number of missing items: 23\n",
      "Index of missing item: 22\n",
      "Index of missing item: 1\n",
      "Index of missing item: 12\n",
      "Index of missing item: 11\n",
      "Index of missing item: 19\n",
      "Index of missing item: 10\n",
      "Index of missing item: 21\n",
      "Index of missing item: 2\n",
      "Index of missing item: 4\n",
      "Index of missing item: 17\n",
      "Index of missing item: 18\n",
      "Index of missing item: 0\n",
      "Index of missing item: 15\n",
      "Index of missing item: 8\n",
      "Index of missing item: 5\n",
      "Index of missing item: 20\n",
      "Index of missing item: 7\n",
      "Index of missing item: 9\n",
      "Index of missing item: 13\n",
      "Index of missing item: 14\n",
      "Index of missing item: 16\n",
      "Index of missing item: 6\n",
      "Index of missing item: 3\n"
     ]
    }
   ],
   "source": [
    "channel_names = ['Nuc', 'Mito', 'Actin', 'Tub']\n",
    "missing_index_dict = {}\n",
    "\n",
    "for i,channel in enumerate(channel_lists):\n",
    "    if len(channel) < max_target_count:\n",
    "        # Example list of image filenames\n",
    "        image_filenames = img_files\n",
    "    \n",
    "        # Example list of target filenames\n",
    "        target_filenames = channel\n",
    "        \n",
    "        # Regular expression pattern to match 'image_xy'\n",
    "        pattern = r\"image_\\d+\"\n",
    "        \n",
    "        # Extract unique 'image_xy' identifiers from image filenames\n",
    "        unique_image_identifiers = set(re.findall(pattern, ' '.join(image_filenames)))\n",
    "        \n",
    "        # Extract 'image_xy' identifiers from target filenames\n",
    "        target_image_identifiers = set(re.findall(pattern, ' '.join(target_filenames)))\n",
    "        \n",
    "        # List to store identifiers not present in target filenames\n",
    "        missing_identifiers = []\n",
    "        \n",
    "        # Check if unique 'image_xy' identifiers are present in target filenames\n",
    "        for identifier in unique_image_identifiers:\n",
    "            if identifier not in target_image_identifiers:\n",
    "                missing_identifiers.append(identifier)\n",
    "        \n",
    "        print(f\"Identifiers not present in target filenames for {channel_names[i]}:\", missing_identifiers)\n",
    "        print(f\"Number of missing items: {len(missing_identifiers)}\")\n",
    "    \n",
    "        missing_indexes = []\n",
    "        #for identifier in missing_identifiers:\n",
    "        for item in missing_identifiers:\n",
    "            index_of_missing = unique_target_identifiers.index(item)\n",
    "            missing_indexes.append(index_of_missing)\n",
    "            print(f'Index of missing item: {index_of_missing}')\n",
    "        missing_index_dict[channel_names[i]] = sorted(missing_indexes)"
   ]
  },
  {
   "cell_type": "code",
   "execution_count": 99,
   "id": "aaf251fe-f191-4c2d-9635-12c883116377",
   "metadata": {
    "scrolled": true
   },
   "outputs": [
    {
     "data": {
      "text/plain": [
       "{'Actin': [0,\n",
       "  1,\n",
       "  2,\n",
       "  3,\n",
       "  4,\n",
       "  5,\n",
       "  6,\n",
       "  7,\n",
       "  8,\n",
       "  9,\n",
       "  10,\n",
       "  11,\n",
       "  12,\n",
       "  13,\n",
       "  14,\n",
       "  15,\n",
       "  16,\n",
       "  17,\n",
       "  18,\n",
       "  19,\n",
       "  20,\n",
       "  21,\n",
       "  22],\n",
       " 'Tub': [0,\n",
       "  1,\n",
       "  2,\n",
       "  3,\n",
       "  4,\n",
       "  5,\n",
       "  6,\n",
       "  7,\n",
       "  8,\n",
       "  9,\n",
       "  10,\n",
       "  11,\n",
       "  12,\n",
       "  13,\n",
       "  14,\n",
       "  15,\n",
       "  16,\n",
       "  17,\n",
       "  18,\n",
       "  19,\n",
       "  20,\n",
       "  21,\n",
       "  22]}"
      ]
     },
     "execution_count": 99,
     "metadata": {},
     "output_type": "execute_result"
    }
   ],
   "source": [
    "missing_index_dict"
   ]
  },
  {
   "cell_type": "markdown",
   "id": "946c357b-adb5-43df-82f4-f0f4178dfb31",
   "metadata": {},
   "source": [
    "### Collecting images"
   ]
  },
  {
   "cell_type": "code",
   "execution_count": 100,
   "id": "7b2242f4-8961-42da-a7a1-062ea404696c",
   "metadata": {
    "scrolled": true
   },
   "outputs": [],
   "source": [
    "#for file in img_files:\n",
    "    #img = AICSImage(file)\n",
    "    #img_array = img.data\n",
    "    #print(img_array.shape)"
   ]
  },
  {
   "cell_type": "code",
   "execution_count": 101,
   "id": "a878244c-bb5e-4660-948c-5217055ba08c",
   "metadata": {},
   "outputs": [],
   "source": [
    "#unique_shapes = set()\n",
    "\n",
    "#for file in img_files:\n",
    "#    img = AICSImage(file)\n",
    "#    img_array = img.data\n",
    "#    shape = img_array.shape\n",
    "#    unique_shapes.add(shape)\n",
    "\n",
    "## Print the unique shapes\n",
    "#for shape in unique_shapes:\n",
    "    #print(shape)"
   ]
  },
  {
   "cell_type": "code",
   "execution_count": 102,
   "id": "be9ef05a-7d05-4da9-927d-29c5681074bd",
   "metadata": {},
   "outputs": [],
   "source": [
    "# Dictionary to store filenames organized by image number\n",
    "image_number_dict = {}\n",
    "\n",
    "# Regular expression pattern to extract image numbers\n",
    "pattern = r'image_(\\d+)_\\w+_z\\d+\\.ome\\.tiff'\n",
    "\n",
    "for filename in img_files:\n",
    "    # Extract image number from filename\n",
    "    match = re.search(pattern, filename)\n",
    "    if match:\n",
    "        image_number = int(match.group(1))\n",
    "        # Add filename to the corresponding list based on image number\n",
    "        if image_number in image_number_dict:\n",
    "            image_number_dict[image_number].append(filename)\n",
    "        else:\n",
    "            image_number_dict[image_number] = [filename]"
   ]
  },
  {
   "cell_type": "code",
   "execution_count": 103,
   "id": "4d73f8f6-8d6e-46e1-9528-205526496caa",
   "metadata": {
    "scrolled": true
   },
   "outputs": [
    {
     "data": {
      "text/plain": [
       "{252: ['/media/local-admin/galaxy/lightmycells_storage/images/Study_DIC/Study_18/image_252_DIC_z0.ome.tiff',\n",
       "  '/media/local-admin/galaxy/lightmycells_storage/images/Study_DIC/Study_18/image_252_DIC_z1.ome.tiff',\n",
       "  '/media/local-admin/galaxy/lightmycells_storage/images/Study_DIC/Study_18/image_252_DIC_z2.ome.tiff',\n",
       "  '/media/local-admin/galaxy/lightmycells_storage/images/Study_DIC/Study_18/image_252_DIC_z3.ome.tiff',\n",
       "  '/media/local-admin/galaxy/lightmycells_storage/images/Study_DIC/Study_18/image_252_DIC_z4.ome.tiff',\n",
       "  '/media/local-admin/galaxy/lightmycells_storage/images/Study_DIC/Study_18/image_252_DIC_z5.ome.tiff',\n",
       "  '/media/local-admin/galaxy/lightmycells_storage/images/Study_DIC/Study_18/image_252_DIC_z6.ome.tiff',\n",
       "  '/media/local-admin/galaxy/lightmycells_storage/images/Study_DIC/Study_18/image_252_DIC_z7.ome.tiff',\n",
       "  '/media/local-admin/galaxy/lightmycells_storage/images/Study_DIC/Study_18/image_252_DIC_z8.ome.tiff'],\n",
       " 253: ['/media/local-admin/galaxy/lightmycells_storage/images/Study_DIC/Study_18/image_253_DIC_z0.ome.tiff',\n",
       "  '/media/local-admin/galaxy/lightmycells_storage/images/Study_DIC/Study_18/image_253_DIC_z1.ome.tiff',\n",
       "  '/media/local-admin/galaxy/lightmycells_storage/images/Study_DIC/Study_18/image_253_DIC_z2.ome.tiff',\n",
       "  '/media/local-admin/galaxy/lightmycells_storage/images/Study_DIC/Study_18/image_253_DIC_z3.ome.tiff',\n",
       "  '/media/local-admin/galaxy/lightmycells_storage/images/Study_DIC/Study_18/image_253_DIC_z4.ome.tiff',\n",
       "  '/media/local-admin/galaxy/lightmycells_storage/images/Study_DIC/Study_18/image_253_DIC_z5.ome.tiff',\n",
       "  '/media/local-admin/galaxy/lightmycells_storage/images/Study_DIC/Study_18/image_253_DIC_z6.ome.tiff',\n",
       "  '/media/local-admin/galaxy/lightmycells_storage/images/Study_DIC/Study_18/image_253_DIC_z7.ome.tiff',\n",
       "  '/media/local-admin/galaxy/lightmycells_storage/images/Study_DIC/Study_18/image_253_DIC_z8.ome.tiff'],\n",
       " 254: ['/media/local-admin/galaxy/lightmycells_storage/images/Study_DIC/Study_18/image_254_DIC_z0.ome.tiff',\n",
       "  '/media/local-admin/galaxy/lightmycells_storage/images/Study_DIC/Study_18/image_254_DIC_z1.ome.tiff',\n",
       "  '/media/local-admin/galaxy/lightmycells_storage/images/Study_DIC/Study_18/image_254_DIC_z2.ome.tiff',\n",
       "  '/media/local-admin/galaxy/lightmycells_storage/images/Study_DIC/Study_18/image_254_DIC_z3.ome.tiff',\n",
       "  '/media/local-admin/galaxy/lightmycells_storage/images/Study_DIC/Study_18/image_254_DIC_z4.ome.tiff',\n",
       "  '/media/local-admin/galaxy/lightmycells_storage/images/Study_DIC/Study_18/image_254_DIC_z5.ome.tiff',\n",
       "  '/media/local-admin/galaxy/lightmycells_storage/images/Study_DIC/Study_18/image_254_DIC_z6.ome.tiff',\n",
       "  '/media/local-admin/galaxy/lightmycells_storage/images/Study_DIC/Study_18/image_254_DIC_z7.ome.tiff',\n",
       "  '/media/local-admin/galaxy/lightmycells_storage/images/Study_DIC/Study_18/image_254_DIC_z8.ome.tiff'],\n",
       " 255: ['/media/local-admin/galaxy/lightmycells_storage/images/Study_DIC/Study_18/image_255_DIC_z0.ome.tiff',\n",
       "  '/media/local-admin/galaxy/lightmycells_storage/images/Study_DIC/Study_18/image_255_DIC_z1.ome.tiff',\n",
       "  '/media/local-admin/galaxy/lightmycells_storage/images/Study_DIC/Study_18/image_255_DIC_z2.ome.tiff',\n",
       "  '/media/local-admin/galaxy/lightmycells_storage/images/Study_DIC/Study_18/image_255_DIC_z3.ome.tiff',\n",
       "  '/media/local-admin/galaxy/lightmycells_storage/images/Study_DIC/Study_18/image_255_DIC_z4.ome.tiff',\n",
       "  '/media/local-admin/galaxy/lightmycells_storage/images/Study_DIC/Study_18/image_255_DIC_z5.ome.tiff',\n",
       "  '/media/local-admin/galaxy/lightmycells_storage/images/Study_DIC/Study_18/image_255_DIC_z6.ome.tiff',\n",
       "  '/media/local-admin/galaxy/lightmycells_storage/images/Study_DIC/Study_18/image_255_DIC_z7.ome.tiff',\n",
       "  '/media/local-admin/galaxy/lightmycells_storage/images/Study_DIC/Study_18/image_255_DIC_z8.ome.tiff'],\n",
       " 256: ['/media/local-admin/galaxy/lightmycells_storage/images/Study_DIC/Study_18/image_256_DIC_z0.ome.tiff',\n",
       "  '/media/local-admin/galaxy/lightmycells_storage/images/Study_DIC/Study_18/image_256_DIC_z1.ome.tiff',\n",
       "  '/media/local-admin/galaxy/lightmycells_storage/images/Study_DIC/Study_18/image_256_DIC_z2.ome.tiff',\n",
       "  '/media/local-admin/galaxy/lightmycells_storage/images/Study_DIC/Study_18/image_256_DIC_z3.ome.tiff',\n",
       "  '/media/local-admin/galaxy/lightmycells_storage/images/Study_DIC/Study_18/image_256_DIC_z4.ome.tiff',\n",
       "  '/media/local-admin/galaxy/lightmycells_storage/images/Study_DIC/Study_18/image_256_DIC_z5.ome.tiff',\n",
       "  '/media/local-admin/galaxy/lightmycells_storage/images/Study_DIC/Study_18/image_256_DIC_z6.ome.tiff',\n",
       "  '/media/local-admin/galaxy/lightmycells_storage/images/Study_DIC/Study_18/image_256_DIC_z7.ome.tiff',\n",
       "  '/media/local-admin/galaxy/lightmycells_storage/images/Study_DIC/Study_18/image_256_DIC_z8.ome.tiff'],\n",
       " 257: ['/media/local-admin/galaxy/lightmycells_storage/images/Study_DIC/Study_18/image_257_DIC_z0.ome.tiff',\n",
       "  '/media/local-admin/galaxy/lightmycells_storage/images/Study_DIC/Study_18/image_257_DIC_z1.ome.tiff',\n",
       "  '/media/local-admin/galaxy/lightmycells_storage/images/Study_DIC/Study_18/image_257_DIC_z2.ome.tiff',\n",
       "  '/media/local-admin/galaxy/lightmycells_storage/images/Study_DIC/Study_18/image_257_DIC_z3.ome.tiff',\n",
       "  '/media/local-admin/galaxy/lightmycells_storage/images/Study_DIC/Study_18/image_257_DIC_z4.ome.tiff',\n",
       "  '/media/local-admin/galaxy/lightmycells_storage/images/Study_DIC/Study_18/image_257_DIC_z5.ome.tiff',\n",
       "  '/media/local-admin/galaxy/lightmycells_storage/images/Study_DIC/Study_18/image_257_DIC_z6.ome.tiff',\n",
       "  '/media/local-admin/galaxy/lightmycells_storage/images/Study_DIC/Study_18/image_257_DIC_z7.ome.tiff',\n",
       "  '/media/local-admin/galaxy/lightmycells_storage/images/Study_DIC/Study_18/image_257_DIC_z8.ome.tiff'],\n",
       " 258: ['/media/local-admin/galaxy/lightmycells_storage/images/Study_DIC/Study_18/image_258_DIC_z0.ome.tiff',\n",
       "  '/media/local-admin/galaxy/lightmycells_storage/images/Study_DIC/Study_18/image_258_DIC_z1.ome.tiff',\n",
       "  '/media/local-admin/galaxy/lightmycells_storage/images/Study_DIC/Study_18/image_258_DIC_z2.ome.tiff',\n",
       "  '/media/local-admin/galaxy/lightmycells_storage/images/Study_DIC/Study_18/image_258_DIC_z3.ome.tiff',\n",
       "  '/media/local-admin/galaxy/lightmycells_storage/images/Study_DIC/Study_18/image_258_DIC_z4.ome.tiff',\n",
       "  '/media/local-admin/galaxy/lightmycells_storage/images/Study_DIC/Study_18/image_258_DIC_z5.ome.tiff',\n",
       "  '/media/local-admin/galaxy/lightmycells_storage/images/Study_DIC/Study_18/image_258_DIC_z6.ome.tiff',\n",
       "  '/media/local-admin/galaxy/lightmycells_storage/images/Study_DIC/Study_18/image_258_DIC_z7.ome.tiff',\n",
       "  '/media/local-admin/galaxy/lightmycells_storage/images/Study_DIC/Study_18/image_258_DIC_z8.ome.tiff'],\n",
       " 259: ['/media/local-admin/galaxy/lightmycells_storage/images/Study_DIC/Study_18/image_259_DIC_z0.ome.tiff',\n",
       "  '/media/local-admin/galaxy/lightmycells_storage/images/Study_DIC/Study_18/image_259_DIC_z1.ome.tiff',\n",
       "  '/media/local-admin/galaxy/lightmycells_storage/images/Study_DIC/Study_18/image_259_DIC_z2.ome.tiff',\n",
       "  '/media/local-admin/galaxy/lightmycells_storage/images/Study_DIC/Study_18/image_259_DIC_z3.ome.tiff',\n",
       "  '/media/local-admin/galaxy/lightmycells_storage/images/Study_DIC/Study_18/image_259_DIC_z4.ome.tiff',\n",
       "  '/media/local-admin/galaxy/lightmycells_storage/images/Study_DIC/Study_18/image_259_DIC_z5.ome.tiff',\n",
       "  '/media/local-admin/galaxy/lightmycells_storage/images/Study_DIC/Study_18/image_259_DIC_z6.ome.tiff',\n",
       "  '/media/local-admin/galaxy/lightmycells_storage/images/Study_DIC/Study_18/image_259_DIC_z7.ome.tiff',\n",
       "  '/media/local-admin/galaxy/lightmycells_storage/images/Study_DIC/Study_18/image_259_DIC_z8.ome.tiff'],\n",
       " 260: ['/media/local-admin/galaxy/lightmycells_storage/images/Study_DIC/Study_18/image_260_DIC_z0.ome.tiff',\n",
       "  '/media/local-admin/galaxy/lightmycells_storage/images/Study_DIC/Study_18/image_260_DIC_z1.ome.tiff',\n",
       "  '/media/local-admin/galaxy/lightmycells_storage/images/Study_DIC/Study_18/image_260_DIC_z2.ome.tiff',\n",
       "  '/media/local-admin/galaxy/lightmycells_storage/images/Study_DIC/Study_18/image_260_DIC_z3.ome.tiff',\n",
       "  '/media/local-admin/galaxy/lightmycells_storage/images/Study_DIC/Study_18/image_260_DIC_z4.ome.tiff',\n",
       "  '/media/local-admin/galaxy/lightmycells_storage/images/Study_DIC/Study_18/image_260_DIC_z5.ome.tiff',\n",
       "  '/media/local-admin/galaxy/lightmycells_storage/images/Study_DIC/Study_18/image_260_DIC_z6.ome.tiff',\n",
       "  '/media/local-admin/galaxy/lightmycells_storage/images/Study_DIC/Study_18/image_260_DIC_z7.ome.tiff',\n",
       "  '/media/local-admin/galaxy/lightmycells_storage/images/Study_DIC/Study_18/image_260_DIC_z8.ome.tiff'],\n",
       " 261: ['/media/local-admin/galaxy/lightmycells_storage/images/Study_DIC/Study_18/image_261_DIC_z0.ome.tiff',\n",
       "  '/media/local-admin/galaxy/lightmycells_storage/images/Study_DIC/Study_18/image_261_DIC_z1.ome.tiff',\n",
       "  '/media/local-admin/galaxy/lightmycells_storage/images/Study_DIC/Study_18/image_261_DIC_z2.ome.tiff',\n",
       "  '/media/local-admin/galaxy/lightmycells_storage/images/Study_DIC/Study_18/image_261_DIC_z3.ome.tiff',\n",
       "  '/media/local-admin/galaxy/lightmycells_storage/images/Study_DIC/Study_18/image_261_DIC_z4.ome.tiff',\n",
       "  '/media/local-admin/galaxy/lightmycells_storage/images/Study_DIC/Study_18/image_261_DIC_z5.ome.tiff',\n",
       "  '/media/local-admin/galaxy/lightmycells_storage/images/Study_DIC/Study_18/image_261_DIC_z6.ome.tiff',\n",
       "  '/media/local-admin/galaxy/lightmycells_storage/images/Study_DIC/Study_18/image_261_DIC_z7.ome.tiff',\n",
       "  '/media/local-admin/galaxy/lightmycells_storage/images/Study_DIC/Study_18/image_261_DIC_z8.ome.tiff'],\n",
       " 262: ['/media/local-admin/galaxy/lightmycells_storage/images/Study_DIC/Study_18/image_262_DIC_z0.ome.tiff',\n",
       "  '/media/local-admin/galaxy/lightmycells_storage/images/Study_DIC/Study_18/image_262_DIC_z1.ome.tiff',\n",
       "  '/media/local-admin/galaxy/lightmycells_storage/images/Study_DIC/Study_18/image_262_DIC_z2.ome.tiff',\n",
       "  '/media/local-admin/galaxy/lightmycells_storage/images/Study_DIC/Study_18/image_262_DIC_z3.ome.tiff',\n",
       "  '/media/local-admin/galaxy/lightmycells_storage/images/Study_DIC/Study_18/image_262_DIC_z4.ome.tiff',\n",
       "  '/media/local-admin/galaxy/lightmycells_storage/images/Study_DIC/Study_18/image_262_DIC_z5.ome.tiff',\n",
       "  '/media/local-admin/galaxy/lightmycells_storage/images/Study_DIC/Study_18/image_262_DIC_z6.ome.tiff',\n",
       "  '/media/local-admin/galaxy/lightmycells_storage/images/Study_DIC/Study_18/image_262_DIC_z7.ome.tiff',\n",
       "  '/media/local-admin/galaxy/lightmycells_storage/images/Study_DIC/Study_18/image_262_DIC_z8.ome.tiff'],\n",
       " 263: ['/media/local-admin/galaxy/lightmycells_storage/images/Study_DIC/Study_18/image_263_DIC_z0.ome.tiff',\n",
       "  '/media/local-admin/galaxy/lightmycells_storage/images/Study_DIC/Study_18/image_263_DIC_z1.ome.tiff',\n",
       "  '/media/local-admin/galaxy/lightmycells_storage/images/Study_DIC/Study_18/image_263_DIC_z2.ome.tiff',\n",
       "  '/media/local-admin/galaxy/lightmycells_storage/images/Study_DIC/Study_18/image_263_DIC_z3.ome.tiff',\n",
       "  '/media/local-admin/galaxy/lightmycells_storage/images/Study_DIC/Study_18/image_263_DIC_z4.ome.tiff',\n",
       "  '/media/local-admin/galaxy/lightmycells_storage/images/Study_DIC/Study_18/image_263_DIC_z5.ome.tiff',\n",
       "  '/media/local-admin/galaxy/lightmycells_storage/images/Study_DIC/Study_18/image_263_DIC_z6.ome.tiff',\n",
       "  '/media/local-admin/galaxy/lightmycells_storage/images/Study_DIC/Study_18/image_263_DIC_z7.ome.tiff',\n",
       "  '/media/local-admin/galaxy/lightmycells_storage/images/Study_DIC/Study_18/image_263_DIC_z8.ome.tiff'],\n",
       " 264: ['/media/local-admin/galaxy/lightmycells_storage/images/Study_DIC/Study_18/image_264_DIC_z0.ome.tiff',\n",
       "  '/media/local-admin/galaxy/lightmycells_storage/images/Study_DIC/Study_18/image_264_DIC_z1.ome.tiff',\n",
       "  '/media/local-admin/galaxy/lightmycells_storage/images/Study_DIC/Study_18/image_264_DIC_z2.ome.tiff',\n",
       "  '/media/local-admin/galaxy/lightmycells_storage/images/Study_DIC/Study_18/image_264_DIC_z3.ome.tiff',\n",
       "  '/media/local-admin/galaxy/lightmycells_storage/images/Study_DIC/Study_18/image_264_DIC_z4.ome.tiff',\n",
       "  '/media/local-admin/galaxy/lightmycells_storage/images/Study_DIC/Study_18/image_264_DIC_z5.ome.tiff',\n",
       "  '/media/local-admin/galaxy/lightmycells_storage/images/Study_DIC/Study_18/image_264_DIC_z6.ome.tiff',\n",
       "  '/media/local-admin/galaxy/lightmycells_storage/images/Study_DIC/Study_18/image_264_DIC_z7.ome.tiff',\n",
       "  '/media/local-admin/galaxy/lightmycells_storage/images/Study_DIC/Study_18/image_264_DIC_z8.ome.tiff'],\n",
       " 265: ['/media/local-admin/galaxy/lightmycells_storage/images/Study_DIC/Study_18/image_265_DIC_z0.ome.tiff',\n",
       "  '/media/local-admin/galaxy/lightmycells_storage/images/Study_DIC/Study_18/image_265_DIC_z1.ome.tiff',\n",
       "  '/media/local-admin/galaxy/lightmycells_storage/images/Study_DIC/Study_18/image_265_DIC_z2.ome.tiff',\n",
       "  '/media/local-admin/galaxy/lightmycells_storage/images/Study_DIC/Study_18/image_265_DIC_z3.ome.tiff',\n",
       "  '/media/local-admin/galaxy/lightmycells_storage/images/Study_DIC/Study_18/image_265_DIC_z4.ome.tiff',\n",
       "  '/media/local-admin/galaxy/lightmycells_storage/images/Study_DIC/Study_18/image_265_DIC_z5.ome.tiff',\n",
       "  '/media/local-admin/galaxy/lightmycells_storage/images/Study_DIC/Study_18/image_265_DIC_z6.ome.tiff',\n",
       "  '/media/local-admin/galaxy/lightmycells_storage/images/Study_DIC/Study_18/image_265_DIC_z7.ome.tiff',\n",
       "  '/media/local-admin/galaxy/lightmycells_storage/images/Study_DIC/Study_18/image_265_DIC_z8.ome.tiff'],\n",
       " 266: ['/media/local-admin/galaxy/lightmycells_storage/images/Study_DIC/Study_18/image_266_DIC_z0.ome.tiff',\n",
       "  '/media/local-admin/galaxy/lightmycells_storage/images/Study_DIC/Study_18/image_266_DIC_z1.ome.tiff',\n",
       "  '/media/local-admin/galaxy/lightmycells_storage/images/Study_DIC/Study_18/image_266_DIC_z2.ome.tiff',\n",
       "  '/media/local-admin/galaxy/lightmycells_storage/images/Study_DIC/Study_18/image_266_DIC_z3.ome.tiff',\n",
       "  '/media/local-admin/galaxy/lightmycells_storage/images/Study_DIC/Study_18/image_266_DIC_z4.ome.tiff',\n",
       "  '/media/local-admin/galaxy/lightmycells_storage/images/Study_DIC/Study_18/image_266_DIC_z5.ome.tiff',\n",
       "  '/media/local-admin/galaxy/lightmycells_storage/images/Study_DIC/Study_18/image_266_DIC_z6.ome.tiff',\n",
       "  '/media/local-admin/galaxy/lightmycells_storage/images/Study_DIC/Study_18/image_266_DIC_z7.ome.tiff',\n",
       "  '/media/local-admin/galaxy/lightmycells_storage/images/Study_DIC/Study_18/image_266_DIC_z8.ome.tiff'],\n",
       " 267: ['/media/local-admin/galaxy/lightmycells_storage/images/Study_DIC/Study_18/image_267_DIC_z0.ome.tiff',\n",
       "  '/media/local-admin/galaxy/lightmycells_storage/images/Study_DIC/Study_18/image_267_DIC_z1.ome.tiff',\n",
       "  '/media/local-admin/galaxy/lightmycells_storage/images/Study_DIC/Study_18/image_267_DIC_z2.ome.tiff',\n",
       "  '/media/local-admin/galaxy/lightmycells_storage/images/Study_DIC/Study_18/image_267_DIC_z3.ome.tiff',\n",
       "  '/media/local-admin/galaxy/lightmycells_storage/images/Study_DIC/Study_18/image_267_DIC_z4.ome.tiff',\n",
       "  '/media/local-admin/galaxy/lightmycells_storage/images/Study_DIC/Study_18/image_267_DIC_z5.ome.tiff',\n",
       "  '/media/local-admin/galaxy/lightmycells_storage/images/Study_DIC/Study_18/image_267_DIC_z6.ome.tiff',\n",
       "  '/media/local-admin/galaxy/lightmycells_storage/images/Study_DIC/Study_18/image_267_DIC_z7.ome.tiff',\n",
       "  '/media/local-admin/galaxy/lightmycells_storage/images/Study_DIC/Study_18/image_267_DIC_z8.ome.tiff'],\n",
       " 268: ['/media/local-admin/galaxy/lightmycells_storage/images/Study_DIC/Study_18/image_268_DIC_z0.ome.tiff',\n",
       "  '/media/local-admin/galaxy/lightmycells_storage/images/Study_DIC/Study_18/image_268_DIC_z1.ome.tiff',\n",
       "  '/media/local-admin/galaxy/lightmycells_storage/images/Study_DIC/Study_18/image_268_DIC_z2.ome.tiff',\n",
       "  '/media/local-admin/galaxy/lightmycells_storage/images/Study_DIC/Study_18/image_268_DIC_z3.ome.tiff',\n",
       "  '/media/local-admin/galaxy/lightmycells_storage/images/Study_DIC/Study_18/image_268_DIC_z4.ome.tiff',\n",
       "  '/media/local-admin/galaxy/lightmycells_storage/images/Study_DIC/Study_18/image_268_DIC_z5.ome.tiff',\n",
       "  '/media/local-admin/galaxy/lightmycells_storage/images/Study_DIC/Study_18/image_268_DIC_z6.ome.tiff',\n",
       "  '/media/local-admin/galaxy/lightmycells_storage/images/Study_DIC/Study_18/image_268_DIC_z7.ome.tiff',\n",
       "  '/media/local-admin/galaxy/lightmycells_storage/images/Study_DIC/Study_18/image_268_DIC_z8.ome.tiff'],\n",
       " 269: ['/media/local-admin/galaxy/lightmycells_storage/images/Study_DIC/Study_18/image_269_DIC_z0.ome.tiff',\n",
       "  '/media/local-admin/galaxy/lightmycells_storage/images/Study_DIC/Study_18/image_269_DIC_z1.ome.tiff',\n",
       "  '/media/local-admin/galaxy/lightmycells_storage/images/Study_DIC/Study_18/image_269_DIC_z2.ome.tiff',\n",
       "  '/media/local-admin/galaxy/lightmycells_storage/images/Study_DIC/Study_18/image_269_DIC_z3.ome.tiff',\n",
       "  '/media/local-admin/galaxy/lightmycells_storage/images/Study_DIC/Study_18/image_269_DIC_z4.ome.tiff',\n",
       "  '/media/local-admin/galaxy/lightmycells_storage/images/Study_DIC/Study_18/image_269_DIC_z5.ome.tiff',\n",
       "  '/media/local-admin/galaxy/lightmycells_storage/images/Study_DIC/Study_18/image_269_DIC_z6.ome.tiff',\n",
       "  '/media/local-admin/galaxy/lightmycells_storage/images/Study_DIC/Study_18/image_269_DIC_z7.ome.tiff',\n",
       "  '/media/local-admin/galaxy/lightmycells_storage/images/Study_DIC/Study_18/image_269_DIC_z8.ome.tiff'],\n",
       " 270: ['/media/local-admin/galaxy/lightmycells_storage/images/Study_DIC/Study_18/image_270_DIC_z0.ome.tiff',\n",
       "  '/media/local-admin/galaxy/lightmycells_storage/images/Study_DIC/Study_18/image_270_DIC_z1.ome.tiff',\n",
       "  '/media/local-admin/galaxy/lightmycells_storage/images/Study_DIC/Study_18/image_270_DIC_z2.ome.tiff',\n",
       "  '/media/local-admin/galaxy/lightmycells_storage/images/Study_DIC/Study_18/image_270_DIC_z3.ome.tiff',\n",
       "  '/media/local-admin/galaxy/lightmycells_storage/images/Study_DIC/Study_18/image_270_DIC_z4.ome.tiff',\n",
       "  '/media/local-admin/galaxy/lightmycells_storage/images/Study_DIC/Study_18/image_270_DIC_z5.ome.tiff',\n",
       "  '/media/local-admin/galaxy/lightmycells_storage/images/Study_DIC/Study_18/image_270_DIC_z6.ome.tiff',\n",
       "  '/media/local-admin/galaxy/lightmycells_storage/images/Study_DIC/Study_18/image_270_DIC_z7.ome.tiff',\n",
       "  '/media/local-admin/galaxy/lightmycells_storage/images/Study_DIC/Study_18/image_270_DIC_z8.ome.tiff'],\n",
       " 271: ['/media/local-admin/galaxy/lightmycells_storage/images/Study_DIC/Study_18/image_271_DIC_z0.ome.tiff',\n",
       "  '/media/local-admin/galaxy/lightmycells_storage/images/Study_DIC/Study_18/image_271_DIC_z1.ome.tiff',\n",
       "  '/media/local-admin/galaxy/lightmycells_storage/images/Study_DIC/Study_18/image_271_DIC_z2.ome.tiff',\n",
       "  '/media/local-admin/galaxy/lightmycells_storage/images/Study_DIC/Study_18/image_271_DIC_z3.ome.tiff',\n",
       "  '/media/local-admin/galaxy/lightmycells_storage/images/Study_DIC/Study_18/image_271_DIC_z4.ome.tiff',\n",
       "  '/media/local-admin/galaxy/lightmycells_storage/images/Study_DIC/Study_18/image_271_DIC_z5.ome.tiff',\n",
       "  '/media/local-admin/galaxy/lightmycells_storage/images/Study_DIC/Study_18/image_271_DIC_z6.ome.tiff',\n",
       "  '/media/local-admin/galaxy/lightmycells_storage/images/Study_DIC/Study_18/image_271_DIC_z7.ome.tiff',\n",
       "  '/media/local-admin/galaxy/lightmycells_storage/images/Study_DIC/Study_18/image_271_DIC_z8.ome.tiff'],\n",
       " 272: ['/media/local-admin/galaxy/lightmycells_storage/images/Study_DIC/Study_18/image_272_DIC_z0.ome.tiff',\n",
       "  '/media/local-admin/galaxy/lightmycells_storage/images/Study_DIC/Study_18/image_272_DIC_z1.ome.tiff',\n",
       "  '/media/local-admin/galaxy/lightmycells_storage/images/Study_DIC/Study_18/image_272_DIC_z2.ome.tiff',\n",
       "  '/media/local-admin/galaxy/lightmycells_storage/images/Study_DIC/Study_18/image_272_DIC_z3.ome.tiff',\n",
       "  '/media/local-admin/galaxy/lightmycells_storage/images/Study_DIC/Study_18/image_272_DIC_z4.ome.tiff',\n",
       "  '/media/local-admin/galaxy/lightmycells_storage/images/Study_DIC/Study_18/image_272_DIC_z5.ome.tiff',\n",
       "  '/media/local-admin/galaxy/lightmycells_storage/images/Study_DIC/Study_18/image_272_DIC_z6.ome.tiff',\n",
       "  '/media/local-admin/galaxy/lightmycells_storage/images/Study_DIC/Study_18/image_272_DIC_z7.ome.tiff',\n",
       "  '/media/local-admin/galaxy/lightmycells_storage/images/Study_DIC/Study_18/image_272_DIC_z8.ome.tiff'],\n",
       " 273: ['/media/local-admin/galaxy/lightmycells_storage/images/Study_DIC/Study_18/image_273_DIC_z0.ome.tiff',\n",
       "  '/media/local-admin/galaxy/lightmycells_storage/images/Study_DIC/Study_18/image_273_DIC_z1.ome.tiff',\n",
       "  '/media/local-admin/galaxy/lightmycells_storage/images/Study_DIC/Study_18/image_273_DIC_z2.ome.tiff',\n",
       "  '/media/local-admin/galaxy/lightmycells_storage/images/Study_DIC/Study_18/image_273_DIC_z3.ome.tiff',\n",
       "  '/media/local-admin/galaxy/lightmycells_storage/images/Study_DIC/Study_18/image_273_DIC_z4.ome.tiff',\n",
       "  '/media/local-admin/galaxy/lightmycells_storage/images/Study_DIC/Study_18/image_273_DIC_z5.ome.tiff',\n",
       "  '/media/local-admin/galaxy/lightmycells_storage/images/Study_DIC/Study_18/image_273_DIC_z6.ome.tiff',\n",
       "  '/media/local-admin/galaxy/lightmycells_storage/images/Study_DIC/Study_18/image_273_DIC_z7.ome.tiff',\n",
       "  '/media/local-admin/galaxy/lightmycells_storage/images/Study_DIC/Study_18/image_273_DIC_z8.ome.tiff'],\n",
       " 274: ['/media/local-admin/galaxy/lightmycells_storage/images/Study_DIC/Study_18/image_274_DIC_z0.ome.tiff',\n",
       "  '/media/local-admin/galaxy/lightmycells_storage/images/Study_DIC/Study_18/image_274_DIC_z1.ome.tiff',\n",
       "  '/media/local-admin/galaxy/lightmycells_storage/images/Study_DIC/Study_18/image_274_DIC_z2.ome.tiff',\n",
       "  '/media/local-admin/galaxy/lightmycells_storage/images/Study_DIC/Study_18/image_274_DIC_z3.ome.tiff',\n",
       "  '/media/local-admin/galaxy/lightmycells_storage/images/Study_DIC/Study_18/image_274_DIC_z4.ome.tiff',\n",
       "  '/media/local-admin/galaxy/lightmycells_storage/images/Study_DIC/Study_18/image_274_DIC_z5.ome.tiff',\n",
       "  '/media/local-admin/galaxy/lightmycells_storage/images/Study_DIC/Study_18/image_274_DIC_z6.ome.tiff',\n",
       "  '/media/local-admin/galaxy/lightmycells_storage/images/Study_DIC/Study_18/image_274_DIC_z7.ome.tiff',\n",
       "  '/media/local-admin/galaxy/lightmycells_storage/images/Study_DIC/Study_18/image_274_DIC_z8.ome.tiff']}"
      ]
     },
     "execution_count": 103,
     "metadata": {},
     "output_type": "execute_result"
    }
   ],
   "source": [
    "image_number_dict"
   ]
  },
  {
   "cell_type": "code",
   "execution_count": 104,
   "id": "9cf21473-768b-48bd-964c-2ab93658d973",
   "metadata": {
    "scrolled": true
   },
   "outputs": [],
   "source": [
    "# Regular expression pattern to extract image numbers\n",
    "#pattern = r'image_(\\d+)_\\w+.ome\\.tiff'\n",
    "\n",
    "#for channel in channel_lists:\n",
    "#    for filename in channel:\n",
    "#        # Extract image number from filename\n",
    "#        match = re.search(pattern, filename)\n",
    "#        if match:\n",
    "#            image_number = int(match.group(1))\n",
    "#            # Add filename to the corresponding list based on image number\n",
    "#            if image_number in image_number_dict:\n",
    "#                image_number_dict[image_number].append(filename)\n",
    "#            else:\n",
    "#                image_number_dict[image_number] = [filename]"
   ]
  },
  {
   "cell_type": "code",
   "execution_count": 105,
   "id": "c8083884-3b6f-41d3-a438-3210905287bc",
   "metadata": {
    "scrolled": true
   },
   "outputs": [
    {
     "name": "stdout",
     "output_type": "stream",
     "text": [
      "Number of items assigned to key 252: 9\n",
      "Number of items assigned to key 253: 9\n",
      "Number of items assigned to key 254: 9\n",
      "Number of items assigned to key 255: 9\n",
      "Number of items assigned to key 256: 9\n",
      "Number of items assigned to key 257: 9\n",
      "Number of items assigned to key 258: 9\n",
      "Number of items assigned to key 259: 9\n",
      "Number of items assigned to key 260: 9\n",
      "Number of items assigned to key 261: 9\n",
      "Number of items assigned to key 262: 9\n",
      "Number of items assigned to key 263: 9\n",
      "Number of items assigned to key 264: 9\n",
      "Number of items assigned to key 265: 9\n",
      "Number of items assigned to key 266: 9\n",
      "Number of items assigned to key 267: 9\n",
      "Number of items assigned to key 268: 9\n",
      "Number of items assigned to key 269: 9\n",
      "Number of items assigned to key 270: 9\n",
      "Number of items assigned to key 271: 9\n",
      "Number of items assigned to key 272: 9\n",
      "Number of items assigned to key 273: 9\n",
      "Number of items assigned to key 274: 9\n"
     ]
    }
   ],
   "source": [
    "# Iterate through the dictionary and print the number of items for each key\n",
    "num_layers = []\n",
    "for key, value in image_number_dict.items():\n",
    "    num_layers.append(len(value))\n",
    "    print(f\"Number of items assigned to key {key}: {len(value)}\")"
   ]
  },
  {
   "cell_type": "code",
   "execution_count": 106,
   "id": "41a8b9cf-0487-410a-929a-3f3d9209782b",
   "metadata": {
    "scrolled": true
   },
   "outputs": [
    {
     "data": {
      "text/plain": [
       "{252: ['/media/local-admin/galaxy/lightmycells_storage/images/Study_DIC/Study_18/image_252_DIC_z0.ome.tiff',\n",
       "  '/media/local-admin/galaxy/lightmycells_storage/images/Study_DIC/Study_18/image_252_DIC_z1.ome.tiff',\n",
       "  '/media/local-admin/galaxy/lightmycells_storage/images/Study_DIC/Study_18/image_252_DIC_z2.ome.tiff',\n",
       "  '/media/local-admin/galaxy/lightmycells_storage/images/Study_DIC/Study_18/image_252_DIC_z3.ome.tiff',\n",
       "  '/media/local-admin/galaxy/lightmycells_storage/images/Study_DIC/Study_18/image_252_DIC_z4.ome.tiff',\n",
       "  '/media/local-admin/galaxy/lightmycells_storage/images/Study_DIC/Study_18/image_252_DIC_z5.ome.tiff',\n",
       "  '/media/local-admin/galaxy/lightmycells_storage/images/Study_DIC/Study_18/image_252_DIC_z6.ome.tiff',\n",
       "  '/media/local-admin/galaxy/lightmycells_storage/images/Study_DIC/Study_18/image_252_DIC_z7.ome.tiff',\n",
       "  '/media/local-admin/galaxy/lightmycells_storage/images/Study_DIC/Study_18/image_252_DIC_z8.ome.tiff'],\n",
       " 253: ['/media/local-admin/galaxy/lightmycells_storage/images/Study_DIC/Study_18/image_253_DIC_z0.ome.tiff',\n",
       "  '/media/local-admin/galaxy/lightmycells_storage/images/Study_DIC/Study_18/image_253_DIC_z1.ome.tiff',\n",
       "  '/media/local-admin/galaxy/lightmycells_storage/images/Study_DIC/Study_18/image_253_DIC_z2.ome.tiff',\n",
       "  '/media/local-admin/galaxy/lightmycells_storage/images/Study_DIC/Study_18/image_253_DIC_z3.ome.tiff',\n",
       "  '/media/local-admin/galaxy/lightmycells_storage/images/Study_DIC/Study_18/image_253_DIC_z4.ome.tiff',\n",
       "  '/media/local-admin/galaxy/lightmycells_storage/images/Study_DIC/Study_18/image_253_DIC_z5.ome.tiff',\n",
       "  '/media/local-admin/galaxy/lightmycells_storage/images/Study_DIC/Study_18/image_253_DIC_z6.ome.tiff',\n",
       "  '/media/local-admin/galaxy/lightmycells_storage/images/Study_DIC/Study_18/image_253_DIC_z7.ome.tiff',\n",
       "  '/media/local-admin/galaxy/lightmycells_storage/images/Study_DIC/Study_18/image_253_DIC_z8.ome.tiff'],\n",
       " 254: ['/media/local-admin/galaxy/lightmycells_storage/images/Study_DIC/Study_18/image_254_DIC_z0.ome.tiff',\n",
       "  '/media/local-admin/galaxy/lightmycells_storage/images/Study_DIC/Study_18/image_254_DIC_z1.ome.tiff',\n",
       "  '/media/local-admin/galaxy/lightmycells_storage/images/Study_DIC/Study_18/image_254_DIC_z2.ome.tiff',\n",
       "  '/media/local-admin/galaxy/lightmycells_storage/images/Study_DIC/Study_18/image_254_DIC_z3.ome.tiff',\n",
       "  '/media/local-admin/galaxy/lightmycells_storage/images/Study_DIC/Study_18/image_254_DIC_z4.ome.tiff',\n",
       "  '/media/local-admin/galaxy/lightmycells_storage/images/Study_DIC/Study_18/image_254_DIC_z5.ome.tiff',\n",
       "  '/media/local-admin/galaxy/lightmycells_storage/images/Study_DIC/Study_18/image_254_DIC_z6.ome.tiff',\n",
       "  '/media/local-admin/galaxy/lightmycells_storage/images/Study_DIC/Study_18/image_254_DIC_z7.ome.tiff',\n",
       "  '/media/local-admin/galaxy/lightmycells_storage/images/Study_DIC/Study_18/image_254_DIC_z8.ome.tiff'],\n",
       " 255: ['/media/local-admin/galaxy/lightmycells_storage/images/Study_DIC/Study_18/image_255_DIC_z0.ome.tiff',\n",
       "  '/media/local-admin/galaxy/lightmycells_storage/images/Study_DIC/Study_18/image_255_DIC_z1.ome.tiff',\n",
       "  '/media/local-admin/galaxy/lightmycells_storage/images/Study_DIC/Study_18/image_255_DIC_z2.ome.tiff',\n",
       "  '/media/local-admin/galaxy/lightmycells_storage/images/Study_DIC/Study_18/image_255_DIC_z3.ome.tiff',\n",
       "  '/media/local-admin/galaxy/lightmycells_storage/images/Study_DIC/Study_18/image_255_DIC_z4.ome.tiff',\n",
       "  '/media/local-admin/galaxy/lightmycells_storage/images/Study_DIC/Study_18/image_255_DIC_z5.ome.tiff',\n",
       "  '/media/local-admin/galaxy/lightmycells_storage/images/Study_DIC/Study_18/image_255_DIC_z6.ome.tiff',\n",
       "  '/media/local-admin/galaxy/lightmycells_storage/images/Study_DIC/Study_18/image_255_DIC_z7.ome.tiff',\n",
       "  '/media/local-admin/galaxy/lightmycells_storage/images/Study_DIC/Study_18/image_255_DIC_z8.ome.tiff'],\n",
       " 256: ['/media/local-admin/galaxy/lightmycells_storage/images/Study_DIC/Study_18/image_256_DIC_z0.ome.tiff',\n",
       "  '/media/local-admin/galaxy/lightmycells_storage/images/Study_DIC/Study_18/image_256_DIC_z1.ome.tiff',\n",
       "  '/media/local-admin/galaxy/lightmycells_storage/images/Study_DIC/Study_18/image_256_DIC_z2.ome.tiff',\n",
       "  '/media/local-admin/galaxy/lightmycells_storage/images/Study_DIC/Study_18/image_256_DIC_z3.ome.tiff',\n",
       "  '/media/local-admin/galaxy/lightmycells_storage/images/Study_DIC/Study_18/image_256_DIC_z4.ome.tiff',\n",
       "  '/media/local-admin/galaxy/lightmycells_storage/images/Study_DIC/Study_18/image_256_DIC_z5.ome.tiff',\n",
       "  '/media/local-admin/galaxy/lightmycells_storage/images/Study_DIC/Study_18/image_256_DIC_z6.ome.tiff',\n",
       "  '/media/local-admin/galaxy/lightmycells_storage/images/Study_DIC/Study_18/image_256_DIC_z7.ome.tiff',\n",
       "  '/media/local-admin/galaxy/lightmycells_storage/images/Study_DIC/Study_18/image_256_DIC_z8.ome.tiff'],\n",
       " 257: ['/media/local-admin/galaxy/lightmycells_storage/images/Study_DIC/Study_18/image_257_DIC_z0.ome.tiff',\n",
       "  '/media/local-admin/galaxy/lightmycells_storage/images/Study_DIC/Study_18/image_257_DIC_z1.ome.tiff',\n",
       "  '/media/local-admin/galaxy/lightmycells_storage/images/Study_DIC/Study_18/image_257_DIC_z2.ome.tiff',\n",
       "  '/media/local-admin/galaxy/lightmycells_storage/images/Study_DIC/Study_18/image_257_DIC_z3.ome.tiff',\n",
       "  '/media/local-admin/galaxy/lightmycells_storage/images/Study_DIC/Study_18/image_257_DIC_z4.ome.tiff',\n",
       "  '/media/local-admin/galaxy/lightmycells_storage/images/Study_DIC/Study_18/image_257_DIC_z5.ome.tiff',\n",
       "  '/media/local-admin/galaxy/lightmycells_storage/images/Study_DIC/Study_18/image_257_DIC_z6.ome.tiff',\n",
       "  '/media/local-admin/galaxy/lightmycells_storage/images/Study_DIC/Study_18/image_257_DIC_z7.ome.tiff',\n",
       "  '/media/local-admin/galaxy/lightmycells_storage/images/Study_DIC/Study_18/image_257_DIC_z8.ome.tiff'],\n",
       " 258: ['/media/local-admin/galaxy/lightmycells_storage/images/Study_DIC/Study_18/image_258_DIC_z0.ome.tiff',\n",
       "  '/media/local-admin/galaxy/lightmycells_storage/images/Study_DIC/Study_18/image_258_DIC_z1.ome.tiff',\n",
       "  '/media/local-admin/galaxy/lightmycells_storage/images/Study_DIC/Study_18/image_258_DIC_z2.ome.tiff',\n",
       "  '/media/local-admin/galaxy/lightmycells_storage/images/Study_DIC/Study_18/image_258_DIC_z3.ome.tiff',\n",
       "  '/media/local-admin/galaxy/lightmycells_storage/images/Study_DIC/Study_18/image_258_DIC_z4.ome.tiff',\n",
       "  '/media/local-admin/galaxy/lightmycells_storage/images/Study_DIC/Study_18/image_258_DIC_z5.ome.tiff',\n",
       "  '/media/local-admin/galaxy/lightmycells_storage/images/Study_DIC/Study_18/image_258_DIC_z6.ome.tiff',\n",
       "  '/media/local-admin/galaxy/lightmycells_storage/images/Study_DIC/Study_18/image_258_DIC_z7.ome.tiff',\n",
       "  '/media/local-admin/galaxy/lightmycells_storage/images/Study_DIC/Study_18/image_258_DIC_z8.ome.tiff'],\n",
       " 259: ['/media/local-admin/galaxy/lightmycells_storage/images/Study_DIC/Study_18/image_259_DIC_z0.ome.tiff',\n",
       "  '/media/local-admin/galaxy/lightmycells_storage/images/Study_DIC/Study_18/image_259_DIC_z1.ome.tiff',\n",
       "  '/media/local-admin/galaxy/lightmycells_storage/images/Study_DIC/Study_18/image_259_DIC_z2.ome.tiff',\n",
       "  '/media/local-admin/galaxy/lightmycells_storage/images/Study_DIC/Study_18/image_259_DIC_z3.ome.tiff',\n",
       "  '/media/local-admin/galaxy/lightmycells_storage/images/Study_DIC/Study_18/image_259_DIC_z4.ome.tiff',\n",
       "  '/media/local-admin/galaxy/lightmycells_storage/images/Study_DIC/Study_18/image_259_DIC_z5.ome.tiff',\n",
       "  '/media/local-admin/galaxy/lightmycells_storage/images/Study_DIC/Study_18/image_259_DIC_z6.ome.tiff',\n",
       "  '/media/local-admin/galaxy/lightmycells_storage/images/Study_DIC/Study_18/image_259_DIC_z7.ome.tiff',\n",
       "  '/media/local-admin/galaxy/lightmycells_storage/images/Study_DIC/Study_18/image_259_DIC_z8.ome.tiff'],\n",
       " 260: ['/media/local-admin/galaxy/lightmycells_storage/images/Study_DIC/Study_18/image_260_DIC_z0.ome.tiff',\n",
       "  '/media/local-admin/galaxy/lightmycells_storage/images/Study_DIC/Study_18/image_260_DIC_z1.ome.tiff',\n",
       "  '/media/local-admin/galaxy/lightmycells_storage/images/Study_DIC/Study_18/image_260_DIC_z2.ome.tiff',\n",
       "  '/media/local-admin/galaxy/lightmycells_storage/images/Study_DIC/Study_18/image_260_DIC_z3.ome.tiff',\n",
       "  '/media/local-admin/galaxy/lightmycells_storage/images/Study_DIC/Study_18/image_260_DIC_z4.ome.tiff',\n",
       "  '/media/local-admin/galaxy/lightmycells_storage/images/Study_DIC/Study_18/image_260_DIC_z5.ome.tiff',\n",
       "  '/media/local-admin/galaxy/lightmycells_storage/images/Study_DIC/Study_18/image_260_DIC_z6.ome.tiff',\n",
       "  '/media/local-admin/galaxy/lightmycells_storage/images/Study_DIC/Study_18/image_260_DIC_z7.ome.tiff',\n",
       "  '/media/local-admin/galaxy/lightmycells_storage/images/Study_DIC/Study_18/image_260_DIC_z8.ome.tiff'],\n",
       " 261: ['/media/local-admin/galaxy/lightmycells_storage/images/Study_DIC/Study_18/image_261_DIC_z0.ome.tiff',\n",
       "  '/media/local-admin/galaxy/lightmycells_storage/images/Study_DIC/Study_18/image_261_DIC_z1.ome.tiff',\n",
       "  '/media/local-admin/galaxy/lightmycells_storage/images/Study_DIC/Study_18/image_261_DIC_z2.ome.tiff',\n",
       "  '/media/local-admin/galaxy/lightmycells_storage/images/Study_DIC/Study_18/image_261_DIC_z3.ome.tiff',\n",
       "  '/media/local-admin/galaxy/lightmycells_storage/images/Study_DIC/Study_18/image_261_DIC_z4.ome.tiff',\n",
       "  '/media/local-admin/galaxy/lightmycells_storage/images/Study_DIC/Study_18/image_261_DIC_z5.ome.tiff',\n",
       "  '/media/local-admin/galaxy/lightmycells_storage/images/Study_DIC/Study_18/image_261_DIC_z6.ome.tiff',\n",
       "  '/media/local-admin/galaxy/lightmycells_storage/images/Study_DIC/Study_18/image_261_DIC_z7.ome.tiff',\n",
       "  '/media/local-admin/galaxy/lightmycells_storage/images/Study_DIC/Study_18/image_261_DIC_z8.ome.tiff'],\n",
       " 262: ['/media/local-admin/galaxy/lightmycells_storage/images/Study_DIC/Study_18/image_262_DIC_z0.ome.tiff',\n",
       "  '/media/local-admin/galaxy/lightmycells_storage/images/Study_DIC/Study_18/image_262_DIC_z1.ome.tiff',\n",
       "  '/media/local-admin/galaxy/lightmycells_storage/images/Study_DIC/Study_18/image_262_DIC_z2.ome.tiff',\n",
       "  '/media/local-admin/galaxy/lightmycells_storage/images/Study_DIC/Study_18/image_262_DIC_z3.ome.tiff',\n",
       "  '/media/local-admin/galaxy/lightmycells_storage/images/Study_DIC/Study_18/image_262_DIC_z4.ome.tiff',\n",
       "  '/media/local-admin/galaxy/lightmycells_storage/images/Study_DIC/Study_18/image_262_DIC_z5.ome.tiff',\n",
       "  '/media/local-admin/galaxy/lightmycells_storage/images/Study_DIC/Study_18/image_262_DIC_z6.ome.tiff',\n",
       "  '/media/local-admin/galaxy/lightmycells_storage/images/Study_DIC/Study_18/image_262_DIC_z7.ome.tiff',\n",
       "  '/media/local-admin/galaxy/lightmycells_storage/images/Study_DIC/Study_18/image_262_DIC_z8.ome.tiff'],\n",
       " 263: ['/media/local-admin/galaxy/lightmycells_storage/images/Study_DIC/Study_18/image_263_DIC_z0.ome.tiff',\n",
       "  '/media/local-admin/galaxy/lightmycells_storage/images/Study_DIC/Study_18/image_263_DIC_z1.ome.tiff',\n",
       "  '/media/local-admin/galaxy/lightmycells_storage/images/Study_DIC/Study_18/image_263_DIC_z2.ome.tiff',\n",
       "  '/media/local-admin/galaxy/lightmycells_storage/images/Study_DIC/Study_18/image_263_DIC_z3.ome.tiff',\n",
       "  '/media/local-admin/galaxy/lightmycells_storage/images/Study_DIC/Study_18/image_263_DIC_z4.ome.tiff',\n",
       "  '/media/local-admin/galaxy/lightmycells_storage/images/Study_DIC/Study_18/image_263_DIC_z5.ome.tiff',\n",
       "  '/media/local-admin/galaxy/lightmycells_storage/images/Study_DIC/Study_18/image_263_DIC_z6.ome.tiff',\n",
       "  '/media/local-admin/galaxy/lightmycells_storage/images/Study_DIC/Study_18/image_263_DIC_z7.ome.tiff',\n",
       "  '/media/local-admin/galaxy/lightmycells_storage/images/Study_DIC/Study_18/image_263_DIC_z8.ome.tiff'],\n",
       " 264: ['/media/local-admin/galaxy/lightmycells_storage/images/Study_DIC/Study_18/image_264_DIC_z0.ome.tiff',\n",
       "  '/media/local-admin/galaxy/lightmycells_storage/images/Study_DIC/Study_18/image_264_DIC_z1.ome.tiff',\n",
       "  '/media/local-admin/galaxy/lightmycells_storage/images/Study_DIC/Study_18/image_264_DIC_z2.ome.tiff',\n",
       "  '/media/local-admin/galaxy/lightmycells_storage/images/Study_DIC/Study_18/image_264_DIC_z3.ome.tiff',\n",
       "  '/media/local-admin/galaxy/lightmycells_storage/images/Study_DIC/Study_18/image_264_DIC_z4.ome.tiff',\n",
       "  '/media/local-admin/galaxy/lightmycells_storage/images/Study_DIC/Study_18/image_264_DIC_z5.ome.tiff',\n",
       "  '/media/local-admin/galaxy/lightmycells_storage/images/Study_DIC/Study_18/image_264_DIC_z6.ome.tiff',\n",
       "  '/media/local-admin/galaxy/lightmycells_storage/images/Study_DIC/Study_18/image_264_DIC_z7.ome.tiff',\n",
       "  '/media/local-admin/galaxy/lightmycells_storage/images/Study_DIC/Study_18/image_264_DIC_z8.ome.tiff'],\n",
       " 265: ['/media/local-admin/galaxy/lightmycells_storage/images/Study_DIC/Study_18/image_265_DIC_z0.ome.tiff',\n",
       "  '/media/local-admin/galaxy/lightmycells_storage/images/Study_DIC/Study_18/image_265_DIC_z1.ome.tiff',\n",
       "  '/media/local-admin/galaxy/lightmycells_storage/images/Study_DIC/Study_18/image_265_DIC_z2.ome.tiff',\n",
       "  '/media/local-admin/galaxy/lightmycells_storage/images/Study_DIC/Study_18/image_265_DIC_z3.ome.tiff',\n",
       "  '/media/local-admin/galaxy/lightmycells_storage/images/Study_DIC/Study_18/image_265_DIC_z4.ome.tiff',\n",
       "  '/media/local-admin/galaxy/lightmycells_storage/images/Study_DIC/Study_18/image_265_DIC_z5.ome.tiff',\n",
       "  '/media/local-admin/galaxy/lightmycells_storage/images/Study_DIC/Study_18/image_265_DIC_z6.ome.tiff',\n",
       "  '/media/local-admin/galaxy/lightmycells_storage/images/Study_DIC/Study_18/image_265_DIC_z7.ome.tiff',\n",
       "  '/media/local-admin/galaxy/lightmycells_storage/images/Study_DIC/Study_18/image_265_DIC_z8.ome.tiff'],\n",
       " 266: ['/media/local-admin/galaxy/lightmycells_storage/images/Study_DIC/Study_18/image_266_DIC_z0.ome.tiff',\n",
       "  '/media/local-admin/galaxy/lightmycells_storage/images/Study_DIC/Study_18/image_266_DIC_z1.ome.tiff',\n",
       "  '/media/local-admin/galaxy/lightmycells_storage/images/Study_DIC/Study_18/image_266_DIC_z2.ome.tiff',\n",
       "  '/media/local-admin/galaxy/lightmycells_storage/images/Study_DIC/Study_18/image_266_DIC_z3.ome.tiff',\n",
       "  '/media/local-admin/galaxy/lightmycells_storage/images/Study_DIC/Study_18/image_266_DIC_z4.ome.tiff',\n",
       "  '/media/local-admin/galaxy/lightmycells_storage/images/Study_DIC/Study_18/image_266_DIC_z5.ome.tiff',\n",
       "  '/media/local-admin/galaxy/lightmycells_storage/images/Study_DIC/Study_18/image_266_DIC_z6.ome.tiff',\n",
       "  '/media/local-admin/galaxy/lightmycells_storage/images/Study_DIC/Study_18/image_266_DIC_z7.ome.tiff',\n",
       "  '/media/local-admin/galaxy/lightmycells_storage/images/Study_DIC/Study_18/image_266_DIC_z8.ome.tiff'],\n",
       " 267: ['/media/local-admin/galaxy/lightmycells_storage/images/Study_DIC/Study_18/image_267_DIC_z0.ome.tiff',\n",
       "  '/media/local-admin/galaxy/lightmycells_storage/images/Study_DIC/Study_18/image_267_DIC_z1.ome.tiff',\n",
       "  '/media/local-admin/galaxy/lightmycells_storage/images/Study_DIC/Study_18/image_267_DIC_z2.ome.tiff',\n",
       "  '/media/local-admin/galaxy/lightmycells_storage/images/Study_DIC/Study_18/image_267_DIC_z3.ome.tiff',\n",
       "  '/media/local-admin/galaxy/lightmycells_storage/images/Study_DIC/Study_18/image_267_DIC_z4.ome.tiff',\n",
       "  '/media/local-admin/galaxy/lightmycells_storage/images/Study_DIC/Study_18/image_267_DIC_z5.ome.tiff',\n",
       "  '/media/local-admin/galaxy/lightmycells_storage/images/Study_DIC/Study_18/image_267_DIC_z6.ome.tiff',\n",
       "  '/media/local-admin/galaxy/lightmycells_storage/images/Study_DIC/Study_18/image_267_DIC_z7.ome.tiff',\n",
       "  '/media/local-admin/galaxy/lightmycells_storage/images/Study_DIC/Study_18/image_267_DIC_z8.ome.tiff'],\n",
       " 268: ['/media/local-admin/galaxy/lightmycells_storage/images/Study_DIC/Study_18/image_268_DIC_z0.ome.tiff',\n",
       "  '/media/local-admin/galaxy/lightmycells_storage/images/Study_DIC/Study_18/image_268_DIC_z1.ome.tiff',\n",
       "  '/media/local-admin/galaxy/lightmycells_storage/images/Study_DIC/Study_18/image_268_DIC_z2.ome.tiff',\n",
       "  '/media/local-admin/galaxy/lightmycells_storage/images/Study_DIC/Study_18/image_268_DIC_z3.ome.tiff',\n",
       "  '/media/local-admin/galaxy/lightmycells_storage/images/Study_DIC/Study_18/image_268_DIC_z4.ome.tiff',\n",
       "  '/media/local-admin/galaxy/lightmycells_storage/images/Study_DIC/Study_18/image_268_DIC_z5.ome.tiff',\n",
       "  '/media/local-admin/galaxy/lightmycells_storage/images/Study_DIC/Study_18/image_268_DIC_z6.ome.tiff',\n",
       "  '/media/local-admin/galaxy/lightmycells_storage/images/Study_DIC/Study_18/image_268_DIC_z7.ome.tiff',\n",
       "  '/media/local-admin/galaxy/lightmycells_storage/images/Study_DIC/Study_18/image_268_DIC_z8.ome.tiff'],\n",
       " 269: ['/media/local-admin/galaxy/lightmycells_storage/images/Study_DIC/Study_18/image_269_DIC_z0.ome.tiff',\n",
       "  '/media/local-admin/galaxy/lightmycells_storage/images/Study_DIC/Study_18/image_269_DIC_z1.ome.tiff',\n",
       "  '/media/local-admin/galaxy/lightmycells_storage/images/Study_DIC/Study_18/image_269_DIC_z2.ome.tiff',\n",
       "  '/media/local-admin/galaxy/lightmycells_storage/images/Study_DIC/Study_18/image_269_DIC_z3.ome.tiff',\n",
       "  '/media/local-admin/galaxy/lightmycells_storage/images/Study_DIC/Study_18/image_269_DIC_z4.ome.tiff',\n",
       "  '/media/local-admin/galaxy/lightmycells_storage/images/Study_DIC/Study_18/image_269_DIC_z5.ome.tiff',\n",
       "  '/media/local-admin/galaxy/lightmycells_storage/images/Study_DIC/Study_18/image_269_DIC_z6.ome.tiff',\n",
       "  '/media/local-admin/galaxy/lightmycells_storage/images/Study_DIC/Study_18/image_269_DIC_z7.ome.tiff',\n",
       "  '/media/local-admin/galaxy/lightmycells_storage/images/Study_DIC/Study_18/image_269_DIC_z8.ome.tiff'],\n",
       " 270: ['/media/local-admin/galaxy/lightmycells_storage/images/Study_DIC/Study_18/image_270_DIC_z0.ome.tiff',\n",
       "  '/media/local-admin/galaxy/lightmycells_storage/images/Study_DIC/Study_18/image_270_DIC_z1.ome.tiff',\n",
       "  '/media/local-admin/galaxy/lightmycells_storage/images/Study_DIC/Study_18/image_270_DIC_z2.ome.tiff',\n",
       "  '/media/local-admin/galaxy/lightmycells_storage/images/Study_DIC/Study_18/image_270_DIC_z3.ome.tiff',\n",
       "  '/media/local-admin/galaxy/lightmycells_storage/images/Study_DIC/Study_18/image_270_DIC_z4.ome.tiff',\n",
       "  '/media/local-admin/galaxy/lightmycells_storage/images/Study_DIC/Study_18/image_270_DIC_z5.ome.tiff',\n",
       "  '/media/local-admin/galaxy/lightmycells_storage/images/Study_DIC/Study_18/image_270_DIC_z6.ome.tiff',\n",
       "  '/media/local-admin/galaxy/lightmycells_storage/images/Study_DIC/Study_18/image_270_DIC_z7.ome.tiff',\n",
       "  '/media/local-admin/galaxy/lightmycells_storage/images/Study_DIC/Study_18/image_270_DIC_z8.ome.tiff'],\n",
       " 271: ['/media/local-admin/galaxy/lightmycells_storage/images/Study_DIC/Study_18/image_271_DIC_z0.ome.tiff',\n",
       "  '/media/local-admin/galaxy/lightmycells_storage/images/Study_DIC/Study_18/image_271_DIC_z1.ome.tiff',\n",
       "  '/media/local-admin/galaxy/lightmycells_storage/images/Study_DIC/Study_18/image_271_DIC_z2.ome.tiff',\n",
       "  '/media/local-admin/galaxy/lightmycells_storage/images/Study_DIC/Study_18/image_271_DIC_z3.ome.tiff',\n",
       "  '/media/local-admin/galaxy/lightmycells_storage/images/Study_DIC/Study_18/image_271_DIC_z4.ome.tiff',\n",
       "  '/media/local-admin/galaxy/lightmycells_storage/images/Study_DIC/Study_18/image_271_DIC_z5.ome.tiff',\n",
       "  '/media/local-admin/galaxy/lightmycells_storage/images/Study_DIC/Study_18/image_271_DIC_z6.ome.tiff',\n",
       "  '/media/local-admin/galaxy/lightmycells_storage/images/Study_DIC/Study_18/image_271_DIC_z7.ome.tiff',\n",
       "  '/media/local-admin/galaxy/lightmycells_storage/images/Study_DIC/Study_18/image_271_DIC_z8.ome.tiff'],\n",
       " 272: ['/media/local-admin/galaxy/lightmycells_storage/images/Study_DIC/Study_18/image_272_DIC_z0.ome.tiff',\n",
       "  '/media/local-admin/galaxy/lightmycells_storage/images/Study_DIC/Study_18/image_272_DIC_z1.ome.tiff',\n",
       "  '/media/local-admin/galaxy/lightmycells_storage/images/Study_DIC/Study_18/image_272_DIC_z2.ome.tiff',\n",
       "  '/media/local-admin/galaxy/lightmycells_storage/images/Study_DIC/Study_18/image_272_DIC_z3.ome.tiff',\n",
       "  '/media/local-admin/galaxy/lightmycells_storage/images/Study_DIC/Study_18/image_272_DIC_z4.ome.tiff',\n",
       "  '/media/local-admin/galaxy/lightmycells_storage/images/Study_DIC/Study_18/image_272_DIC_z5.ome.tiff',\n",
       "  '/media/local-admin/galaxy/lightmycells_storage/images/Study_DIC/Study_18/image_272_DIC_z6.ome.tiff',\n",
       "  '/media/local-admin/galaxy/lightmycells_storage/images/Study_DIC/Study_18/image_272_DIC_z7.ome.tiff',\n",
       "  '/media/local-admin/galaxy/lightmycells_storage/images/Study_DIC/Study_18/image_272_DIC_z8.ome.tiff'],\n",
       " 273: ['/media/local-admin/galaxy/lightmycells_storage/images/Study_DIC/Study_18/image_273_DIC_z0.ome.tiff',\n",
       "  '/media/local-admin/galaxy/lightmycells_storage/images/Study_DIC/Study_18/image_273_DIC_z1.ome.tiff',\n",
       "  '/media/local-admin/galaxy/lightmycells_storage/images/Study_DIC/Study_18/image_273_DIC_z2.ome.tiff',\n",
       "  '/media/local-admin/galaxy/lightmycells_storage/images/Study_DIC/Study_18/image_273_DIC_z3.ome.tiff',\n",
       "  '/media/local-admin/galaxy/lightmycells_storage/images/Study_DIC/Study_18/image_273_DIC_z4.ome.tiff',\n",
       "  '/media/local-admin/galaxy/lightmycells_storage/images/Study_DIC/Study_18/image_273_DIC_z5.ome.tiff',\n",
       "  '/media/local-admin/galaxy/lightmycells_storage/images/Study_DIC/Study_18/image_273_DIC_z6.ome.tiff',\n",
       "  '/media/local-admin/galaxy/lightmycells_storage/images/Study_DIC/Study_18/image_273_DIC_z7.ome.tiff',\n",
       "  '/media/local-admin/galaxy/lightmycells_storage/images/Study_DIC/Study_18/image_273_DIC_z8.ome.tiff'],\n",
       " 274: ['/media/local-admin/galaxy/lightmycells_storage/images/Study_DIC/Study_18/image_274_DIC_z0.ome.tiff',\n",
       "  '/media/local-admin/galaxy/lightmycells_storage/images/Study_DIC/Study_18/image_274_DIC_z1.ome.tiff',\n",
       "  '/media/local-admin/galaxy/lightmycells_storage/images/Study_DIC/Study_18/image_274_DIC_z2.ome.tiff',\n",
       "  '/media/local-admin/galaxy/lightmycells_storage/images/Study_DIC/Study_18/image_274_DIC_z3.ome.tiff',\n",
       "  '/media/local-admin/galaxy/lightmycells_storage/images/Study_DIC/Study_18/image_274_DIC_z4.ome.tiff',\n",
       "  '/media/local-admin/galaxy/lightmycells_storage/images/Study_DIC/Study_18/image_274_DIC_z5.ome.tiff',\n",
       "  '/media/local-admin/galaxy/lightmycells_storage/images/Study_DIC/Study_18/image_274_DIC_z6.ome.tiff',\n",
       "  '/media/local-admin/galaxy/lightmycells_storage/images/Study_DIC/Study_18/image_274_DIC_z7.ome.tiff',\n",
       "  '/media/local-admin/galaxy/lightmycells_storage/images/Study_DIC/Study_18/image_274_DIC_z8.ome.tiff']}"
      ]
     },
     "execution_count": 106,
     "metadata": {},
     "output_type": "execute_result"
    }
   ],
   "source": [
    "image_number_dict"
   ]
  },
  {
   "cell_type": "code",
   "execution_count": 108,
   "id": "f0c2d01c-0311-47fb-a341-bd4cb668cb9d",
   "metadata": {
    "scrolled": true
   },
   "outputs": [],
   "source": [
    "img_data = []\n",
    "\n",
    "for image_number, filenames in image_number_dict.items():\n",
    "    \n",
    "    # Iterate through the list of filenames for the current image number\n",
    "    for filename in filenames:\n",
    "        # Load image data using AICSImage\n",
    "        img = AICSImage(filename)\n",
    "        img_array = img.data\n",
    "        #img_array = img_as_float32(img_array)\n",
    "        img_array = np.squeeze(img_array)\n",
    "        #img_array = cv2.resize(img_array, dsize=(resize_size[1], resize_size[0]), interpolation=cv2.INTER_CUBIC)\n",
    "        #img_array = min_max_normalize(img_array)\n",
    "        #img_array = z_score_normalize(img_array)\n",
    "        #img_array = percentile_normalization(img_array)     !!!\n",
    "        img_array = np.squeeze(img_array)\n",
    "        # Append the image array to the list of image arrays for the current image number\n",
    "        img_data.append(img_array)"
   ]
  },
  {
   "cell_type": "code",
   "execution_count": 109,
   "id": "b027f004-8179-4f4a-87cb-af12189fcb29",
   "metadata": {},
   "outputs": [],
   "source": [
    "img_array = np.array(img_data)\n",
    "img_array = np.expand_dims(img_array, axis=1)"
   ]
  },
  {
   "cell_type": "code",
   "execution_count": 110,
   "id": "ce1b8689-5be6-41c3-a76e-f6de8e093c7b",
   "metadata": {},
   "outputs": [
    {
     "data": {
      "text/plain": [
       "(207, 1, 1200, 1200)"
      ]
     },
     "execution_count": 110,
     "metadata": {},
     "output_type": "execute_result"
    }
   ],
   "source": [
    "img_array.shape"
   ]
  },
  {
   "cell_type": "code",
   "execution_count": 111,
   "id": "3575f577-8216-4904-9f31-4230bd7835d5",
   "metadata": {},
   "outputs": [
    {
     "data": {
      "text/plain": [
       "dtype('uint16')"
      ]
     },
     "execution_count": 111,
     "metadata": {},
     "output_type": "execute_result"
    }
   ],
   "source": [
    "img_array.dtype"
   ]
  },
  {
   "cell_type": "code",
   "execution_count": 112,
   "id": "7262081e-fede-4e03-8086-cbb4a24f0e35",
   "metadata": {},
   "outputs": [
    {
     "data": {
      "text/plain": [
       "207"
      ]
     },
     "execution_count": 112,
     "metadata": {},
     "output_type": "execute_result"
    }
   ],
   "source": [
    "len(img_array)"
   ]
  },
  {
   "cell_type": "markdown",
   "id": "3e7d417a-463d-4c7b-9a2e-09603d27419d",
   "metadata": {},
   "source": [
    "### Adding blank targets if they are missing"
   ]
  },
  {
   "cell_type": "code",
   "execution_count": 113,
   "id": "1d29c1f6-8699-4406-90d0-78b029012854",
   "metadata": {
    "scrolled": true
   },
   "outputs": [
    {
     "name": "stdout",
     "output_type": "stream",
     "text": [
      "uint16\n",
      "uint16\n",
      "uint16\n",
      "uint16\n",
      "uint16\n",
      "uint16\n",
      "uint16\n",
      "uint16\n",
      "uint16\n",
      "uint16\n",
      "uint16\n",
      "uint16\n",
      "uint16\n",
      "uint16\n",
      "uint16\n",
      "uint16\n",
      "uint16\n",
      "uint16\n",
      "uint16\n",
      "uint16\n",
      "uint16\n",
      "uint16\n",
      "uint16\n",
      "uint16\n",
      "uint16\n",
      "uint16\n",
      "uint16\n",
      "uint16\n",
      "uint16\n",
      "uint16\n",
      "uint16\n",
      "uint16\n",
      "uint16\n",
      "uint16\n",
      "uint16\n",
      "uint16\n",
      "uint16\n",
      "uint16\n",
      "uint16\n",
      "uint16\n",
      "uint16\n",
      "uint16\n",
      "uint16\n",
      "uint16\n",
      "uint16\n",
      "uint16\n"
     ]
    }
   ],
   "source": [
    "mask_stacks = []                                               #This is so if targets are missing, blanks are added in their place\n",
    "\n",
    "for i,channel in enumerate(channel_lists):\n",
    "    \n",
    "    channel_list = []\n",
    "    for mask in channel:\n",
    "        mask_img = AICSImage(mask)\n",
    "        mask_array = mask_img.data\n",
    "        #mask_array = img_as_float32(mask_array)\n",
    "        print(mask_array.dtype)\n",
    "        #mask_array = np.squeeze(img_array)\n",
    "        mask_array = np.squeeze(mask_array)\n",
    "        #mask_array = cv2.resize(mask_array, dsize=resize_size)\n",
    "        #mask_array = min_max_normalize(mask_array)                                     #change to float32, \n",
    "        #mask_array = z_score_normalize(mask_array)\n",
    "        #mask_array = percentile_normalization(mask_array)\n",
    "        channel_list.append(mask_array) \n",
    "\n",
    "    if channel_names[i] in missing_index_dict:\n",
    "        #print(channel_names[i])\n",
    "        # Get the indexes from the dictionary corresponding to the appropriate key\n",
    "        zeros_array = np.zeros(img_array[0][0].shape).astype(np.uint16)                                         #!!!!!!!!!!!!!!!!!!!!!\n",
    "        mito_indexes = missing_index_dict.get(channel_names[i], [])\n",
    "        #print(mito_indexes)\n",
    "\n",
    "        # Insert zeros_array at the indexes specified by mito_indexes in ch1_list\n",
    "        for idx in mito_indexes:\n",
    "            channel_list.insert(idx, zeros_array)\n",
    "        \n",
    "    mask_stacks.append(channel_list)"
   ]
  },
  {
   "cell_type": "code",
   "execution_count": 114,
   "id": "e157e1f7-a4f4-47bf-94ee-07d9ad73e522",
   "metadata": {
    "scrolled": true
   },
   "outputs": [
    {
     "data": {
      "text/plain": [
       "{'Actin': [0,\n",
       "  1,\n",
       "  2,\n",
       "  3,\n",
       "  4,\n",
       "  5,\n",
       "  6,\n",
       "  7,\n",
       "  8,\n",
       "  9,\n",
       "  10,\n",
       "  11,\n",
       "  12,\n",
       "  13,\n",
       "  14,\n",
       "  15,\n",
       "  16,\n",
       "  17,\n",
       "  18,\n",
       "  19,\n",
       "  20,\n",
       "  21,\n",
       "  22],\n",
       " 'Tub': [0,\n",
       "  1,\n",
       "  2,\n",
       "  3,\n",
       "  4,\n",
       "  5,\n",
       "  6,\n",
       "  7,\n",
       "  8,\n",
       "  9,\n",
       "  10,\n",
       "  11,\n",
       "  12,\n",
       "  13,\n",
       "  14,\n",
       "  15,\n",
       "  16,\n",
       "  17,\n",
       "  18,\n",
       "  19,\n",
       "  20,\n",
       "  21,\n",
       "  22]}"
      ]
     },
     "execution_count": 114,
     "metadata": {},
     "output_type": "execute_result"
    }
   ],
   "source": [
    "missing_index_dict"
   ]
  },
  {
   "cell_type": "code",
   "execution_count": 115,
   "id": "6e68533d-1d11-4462-88e5-4aac2b64defd",
   "metadata": {
    "scrolled": true
   },
   "outputs": [
    {
     "name": "stdout",
     "output_type": "stream",
     "text": [
      " \n",
      " \n",
      "0: Replaced with blank\n",
      "1: Replaced with blank\n",
      "2: Replaced with blank\n",
      "3: Replaced with blank\n",
      "4: Replaced with blank\n",
      "5: Replaced with blank\n",
      "6: Replaced with blank\n",
      "7: Replaced with blank\n",
      "8: Replaced with blank\n",
      "9: Replaced with blank\n",
      "10: Replaced with blank\n",
      "11: Replaced with blank\n",
      "12: Replaced with blank\n",
      "13: Replaced with blank\n",
      "14: Replaced with blank\n",
      "15: Replaced with blank\n",
      "16: Replaced with blank\n",
      "17: Replaced with blank\n",
      "18: Replaced with blank\n",
      "19: Replaced with blank\n",
      "20: Replaced with blank\n",
      "21: Replaced with blank\n",
      "22: Replaced with blank\n",
      " \n",
      "0: Replaced with blank\n",
      "1: Replaced with blank\n",
      "2: Replaced with blank\n",
      "3: Replaced with blank\n",
      "4: Replaced with blank\n",
      "5: Replaced with blank\n",
      "6: Replaced with blank\n",
      "7: Replaced with blank\n",
      "8: Replaced with blank\n",
      "9: Replaced with blank\n",
      "10: Replaced with blank\n",
      "11: Replaced with blank\n",
      "12: Replaced with blank\n",
      "13: Replaced with blank\n",
      "14: Replaced with blank\n",
      "15: Replaced with blank\n",
      "16: Replaced with blank\n",
      "17: Replaced with blank\n",
      "18: Replaced with blank\n",
      "19: Replaced with blank\n",
      "20: Replaced with blank\n",
      "21: Replaced with blank\n",
      "22: Replaced with blank\n",
      " \n"
     ]
    }
   ],
   "source": [
    "for channel in mask_stacks:\n",
    "    for i,x in enumerate(channel):\n",
    "        if x.all() == 0:\n",
    "            print(f'{i}: Replaced with blank')\n",
    "    print(' ')"
   ]
  },
  {
   "cell_type": "markdown",
   "id": "4b20b269-0583-438a-8355-090f964fde9f",
   "metadata": {},
   "source": [
    "#### Replicating masks for each image"
   ]
  },
  {
   "cell_type": "code",
   "execution_count": 116,
   "id": "b4cce024-7894-4775-a645-b307945420d1",
   "metadata": {},
   "outputs": [],
   "source": [
    "mask_data = np.array(mask_stacks)"
   ]
  },
  {
   "cell_type": "code",
   "execution_count": 117,
   "id": "52288682-9a9f-445e-9d23-90fdd1e035c5",
   "metadata": {},
   "outputs": [
    {
     "data": {
      "text/plain": [
       "dtype('uint16')"
      ]
     },
     "execution_count": 117,
     "metadata": {},
     "output_type": "execute_result"
    }
   ],
   "source": [
    "mask_data.dtype"
   ]
  },
  {
   "cell_type": "code",
   "execution_count": 118,
   "id": "a011d3d1-cc07-44f2-be46-97be92a4222f",
   "metadata": {},
   "outputs": [],
   "source": [
    "mask_data = np.swapaxes(mask_data, 0,1)"
   ]
  },
  {
   "cell_type": "code",
   "execution_count": 119,
   "id": "1e406b78-0d72-4839-a1ef-0cf3259626c4",
   "metadata": {},
   "outputs": [
    {
     "data": {
      "text/plain": [
       "dtype('uint16')"
      ]
     },
     "execution_count": 119,
     "metadata": {},
     "output_type": "execute_result"
    }
   ],
   "source": [
    "mask_data.dtype"
   ]
  },
  {
   "cell_type": "code",
   "execution_count": 120,
   "id": "a51f99d8-4168-4987-9fef-4cf4f7f80f69",
   "metadata": {},
   "outputs": [
    {
     "data": {
      "text/plain": [
       "(23, 4, 1200, 1200)"
      ]
     },
     "execution_count": 120,
     "metadata": {},
     "output_type": "execute_result"
    }
   ],
   "source": [
    "mask_data.shape"
   ]
  },
  {
   "cell_type": "code",
   "execution_count": 121,
   "id": "31301498-ffe1-4672-bbbe-f7c54e7da5d7",
   "metadata": {
    "scrolled": true
   },
   "outputs": [
    {
     "data": {
      "text/plain": [
       "[9, 9, 9, 9, 9, 9, 9, 9, 9, 9, 9, 9, 9, 9, 9, 9, 9, 9, 9, 9, 9, 9, 9]"
      ]
     },
     "execution_count": 121,
     "metadata": {},
     "output_type": "execute_result"
    }
   ],
   "source": [
    "num_layers"
   ]
  },
  {
   "cell_type": "code",
   "execution_count": 122,
   "id": "15b15b68-4896-4236-b84e-814c758bf101",
   "metadata": {},
   "outputs": [
    {
     "name": "stdout",
     "output_type": "stream",
     "text": [
      "Shape of extended mask_data: (207, 4, 1200, 1200)\n"
     ]
    }
   ],
   "source": [
    "# Repeat each element in the first dimension of mask_data based on num_layers\n",
    "extended_mask_data = np.repeat(mask_data, num_layers, axis=0)\n",
    "\n",
    "# Verify the shape of the extended array\n",
    "print(\"Shape of extended mask_data:\", extended_mask_data.shape)"
   ]
  },
  {
   "cell_type": "code",
   "execution_count": 123,
   "id": "4b514df3-2b35-42be-bbd0-aed812e3ae02",
   "metadata": {},
   "outputs": [
    {
     "data": {
      "text/plain": [
       "dtype('uint16')"
      ]
     },
     "execution_count": 123,
     "metadata": {},
     "output_type": "execute_result"
    }
   ],
   "source": [
    "extended_mask_data.dtype"
   ]
  },
  {
   "cell_type": "code",
   "execution_count": 124,
   "id": "3232a3b0-82ee-4804-873f-f89eb59424c2",
   "metadata": {},
   "outputs": [],
   "source": [
    "mask_data = extended_mask_data"
   ]
  },
  {
   "cell_type": "code",
   "execution_count": 125,
   "id": "cd5ec160-61ae-4c70-80e1-b10af39d8dff",
   "metadata": {},
   "outputs": [],
   "source": [
    "img_data = img_array"
   ]
  },
  {
   "cell_type": "code",
   "execution_count": 126,
   "id": "e62a3d45-0244-4fba-a20d-0b5c74d4fa48",
   "metadata": {},
   "outputs": [
    {
     "data": {
      "text/plain": [
       "(1, 1200, 1200)"
      ]
     },
     "execution_count": 126,
     "metadata": {},
     "output_type": "execute_result"
    }
   ],
   "source": [
    "img_data[0].shape"
   ]
  },
  {
   "cell_type": "code",
   "execution_count": 127,
   "id": "94e87247-63bf-4cc9-8e4c-7c49a7d126a0",
   "metadata": {},
   "outputs": [
    {
     "data": {
      "text/plain": [
       "(4, 1200, 1200)"
      ]
     },
     "execution_count": 127,
     "metadata": {},
     "output_type": "execute_result"
    }
   ],
   "source": [
    "mask_data[0].shape"
   ]
  },
  {
   "cell_type": "code",
   "execution_count": 128,
   "id": "cfae174e-f41c-4c5f-b62b-ec48d761a67a",
   "metadata": {},
   "outputs": [
    {
     "data": {
      "text/plain": [
       "(207, 4, 1200, 1200)"
      ]
     },
     "execution_count": 128,
     "metadata": {},
     "output_type": "execute_result"
    }
   ],
   "source": [
    "mask_data.shape"
   ]
  },
  {
   "cell_type": "code",
   "execution_count": 129,
   "id": "ef5828fc-0a45-4061-b38f-69de1eba8570",
   "metadata": {},
   "outputs": [
    {
     "data": {
      "text/plain": [
       "dtype('uint16')"
      ]
     },
     "execution_count": 129,
     "metadata": {},
     "output_type": "execute_result"
    }
   ],
   "source": [
    "mask_data.dtype"
   ]
  },
  {
   "cell_type": "code",
   "execution_count": 130,
   "id": "46fdad23-7bb3-4806-a280-2fd5973cdf49",
   "metadata": {},
   "outputs": [
    {
     "data": {
      "text/plain": [
       "dtype('uint16')"
      ]
     },
     "execution_count": 130,
     "metadata": {},
     "output_type": "execute_result"
    }
   ],
   "source": [
    "img_data.dtype"
   ]
  },
  {
   "cell_type": "markdown",
   "id": "83975758-f4b9-42ad-b0f1-d3265f9aa1fe",
   "metadata": {},
   "source": [
    "### Shuffle the \"stacks\" so it's not always the last x% that gets split off (while respecting the stacks)"
   ]
  },
  {
   "cell_type": "code",
   "execution_count": 131,
   "id": "292c5197-a89a-45f0-9ced-d204f75e1940",
   "metadata": {
    "scrolled": true
   },
   "outputs": [
    {
     "name": "stdout",
     "output_type": "stream",
     "text": [
      "Data split according to stacks before shuffling:\n",
      "Stack 1: Image data shape: (9, 1, 1200, 1200), Mask data shape: (9, 4, 1200, 1200), Num layers: 9\n",
      "Stack 2: Image data shape: (9, 1, 1200, 1200), Mask data shape: (9, 4, 1200, 1200), Num layers: 9\n",
      "Stack 3: Image data shape: (9, 1, 1200, 1200), Mask data shape: (9, 4, 1200, 1200), Num layers: 9\n",
      "Stack 4: Image data shape: (9, 1, 1200, 1200), Mask data shape: (9, 4, 1200, 1200), Num layers: 9\n",
      "Stack 5: Image data shape: (9, 1, 1200, 1200), Mask data shape: (9, 4, 1200, 1200), Num layers: 9\n",
      "Stack 6: Image data shape: (9, 1, 1200, 1200), Mask data shape: (9, 4, 1200, 1200), Num layers: 9\n",
      "Stack 7: Image data shape: (9, 1, 1200, 1200), Mask data shape: (9, 4, 1200, 1200), Num layers: 9\n",
      "Stack 8: Image data shape: (9, 1, 1200, 1200), Mask data shape: (9, 4, 1200, 1200), Num layers: 9\n",
      "Stack 9: Image data shape: (9, 1, 1200, 1200), Mask data shape: (9, 4, 1200, 1200), Num layers: 9\n",
      "Stack 10: Image data shape: (9, 1, 1200, 1200), Mask data shape: (9, 4, 1200, 1200), Num layers: 9\n",
      "Stack 11: Image data shape: (9, 1, 1200, 1200), Mask data shape: (9, 4, 1200, 1200), Num layers: 9\n",
      "Stack 12: Image data shape: (9, 1, 1200, 1200), Mask data shape: (9, 4, 1200, 1200), Num layers: 9\n",
      "Stack 13: Image data shape: (9, 1, 1200, 1200), Mask data shape: (9, 4, 1200, 1200), Num layers: 9\n",
      "Stack 14: Image data shape: (9, 1, 1200, 1200), Mask data shape: (9, 4, 1200, 1200), Num layers: 9\n",
      "Stack 15: Image data shape: (9, 1, 1200, 1200), Mask data shape: (9, 4, 1200, 1200), Num layers: 9\n",
      "Stack 16: Image data shape: (9, 1, 1200, 1200), Mask data shape: (9, 4, 1200, 1200), Num layers: 9\n",
      "Stack 17: Image data shape: (9, 1, 1200, 1200), Mask data shape: (9, 4, 1200, 1200), Num layers: 9\n",
      "Stack 18: Image data shape: (9, 1, 1200, 1200), Mask data shape: (9, 4, 1200, 1200), Num layers: 9\n",
      "Stack 19: Image data shape: (9, 1, 1200, 1200), Mask data shape: (9, 4, 1200, 1200), Num layers: 9\n",
      "Stack 20: Image data shape: (9, 1, 1200, 1200), Mask data shape: (9, 4, 1200, 1200), Num layers: 9\n",
      "Stack 21: Image data shape: (9, 1, 1200, 1200), Mask data shape: (9, 4, 1200, 1200), Num layers: 9\n",
      "Stack 22: Image data shape: (9, 1, 1200, 1200), Mask data shape: (9, 4, 1200, 1200), Num layers: 9\n",
      "Stack 23: Image data shape: (9, 1, 1200, 1200), Mask data shape: (9, 4, 1200, 1200), Num layers: 9\n",
      "Data split according to stacks after shuffling:\n",
      "Stack 1: Image data shape: (9, 1, 1200, 1200), Mask data shape: (9, 4, 1200, 1200), Num layers: 9\n",
      "Stack 2: Image data shape: (9, 1, 1200, 1200), Mask data shape: (9, 4, 1200, 1200), Num layers: 9\n",
      "Stack 3: Image data shape: (9, 1, 1200, 1200), Mask data shape: (9, 4, 1200, 1200), Num layers: 9\n",
      "Stack 4: Image data shape: (9, 1, 1200, 1200), Mask data shape: (9, 4, 1200, 1200), Num layers: 9\n",
      "Stack 5: Image data shape: (9, 1, 1200, 1200), Mask data shape: (9, 4, 1200, 1200), Num layers: 9\n",
      "Stack 6: Image data shape: (9, 1, 1200, 1200), Mask data shape: (9, 4, 1200, 1200), Num layers: 9\n",
      "Stack 7: Image data shape: (9, 1, 1200, 1200), Mask data shape: (9, 4, 1200, 1200), Num layers: 9\n",
      "Stack 8: Image data shape: (9, 1, 1200, 1200), Mask data shape: (9, 4, 1200, 1200), Num layers: 9\n",
      "Stack 9: Image data shape: (9, 1, 1200, 1200), Mask data shape: (9, 4, 1200, 1200), Num layers: 9\n",
      "Stack 10: Image data shape: (9, 1, 1200, 1200), Mask data shape: (9, 4, 1200, 1200), Num layers: 9\n",
      "Stack 11: Image data shape: (9, 1, 1200, 1200), Mask data shape: (9, 4, 1200, 1200), Num layers: 9\n",
      "Stack 12: Image data shape: (9, 1, 1200, 1200), Mask data shape: (9, 4, 1200, 1200), Num layers: 9\n",
      "Stack 13: Image data shape: (9, 1, 1200, 1200), Mask data shape: (9, 4, 1200, 1200), Num layers: 9\n",
      "Stack 14: Image data shape: (9, 1, 1200, 1200), Mask data shape: (9, 4, 1200, 1200), Num layers: 9\n",
      "Stack 15: Image data shape: (9, 1, 1200, 1200), Mask data shape: (9, 4, 1200, 1200), Num layers: 9\n",
      "Stack 16: Image data shape: (9, 1, 1200, 1200), Mask data shape: (9, 4, 1200, 1200), Num layers: 9\n",
      "Stack 17: Image data shape: (9, 1, 1200, 1200), Mask data shape: (9, 4, 1200, 1200), Num layers: 9\n",
      "Stack 18: Image data shape: (9, 1, 1200, 1200), Mask data shape: (9, 4, 1200, 1200), Num layers: 9\n",
      "Stack 19: Image data shape: (9, 1, 1200, 1200), Mask data shape: (9, 4, 1200, 1200), Num layers: 9\n",
      "Stack 20: Image data shape: (9, 1, 1200, 1200), Mask data shape: (9, 4, 1200, 1200), Num layers: 9\n",
      "Stack 21: Image data shape: (9, 1, 1200, 1200), Mask data shape: (9, 4, 1200, 1200), Num layers: 9\n",
      "Stack 22: Image data shape: (9, 1, 1200, 1200), Mask data shape: (9, 4, 1200, 1200), Num layers: 9\n",
      "Stack 23: Image data shape: (9, 1, 1200, 1200), Mask data shape: (9, 4, 1200, 1200), Num layers: 9\n",
      "Reunited Shuffled Image Data Shape: (207, 1, 1200, 1200)\n",
      "Reunited Shuffled Mask Data Shape: (207, 4, 1200, 1200)\n"
     ]
    }
   ],
   "source": [
    "# Initialize lists to store the split data\n",
    "split_img_data = []\n",
    "split_mask_data = []\n",
    "\n",
    "# Iterate over num_layers to split img_data and mask_data\n",
    "start_idx = 0\n",
    "for num in num_layers:\n",
    "    end_idx = start_idx + num\n",
    "    split_img_data.append(img_data[start_idx:end_idx])\n",
    "    split_mask_data.append(mask_data[start_idx:end_idx])\n",
    "    start_idx = end_idx\n",
    "\n",
    "# Verify the split data\n",
    "print(\"Data split according to stacks before shuffling:\")\n",
    "for i, (img, mask) in enumerate(zip(split_img_data, split_mask_data)):\n",
    "    print(f\"Stack {i+1}: Image data shape: {img.shape}, Mask data shape: {mask.shape}, Num layers: {num_layers[i]}\")\n",
    "\n",
    " #Shuffle the data\n",
    "shuffled_indices = np.random.permutation(len(split_img_data))\n",
    "shuffled_img_data = [split_img_data[i] for i in shuffled_indices]\n",
    "shuffled_mask_data = [split_mask_data[i] for i in shuffled_indices]\n",
    "shuffled_num_layers = [num_layers[i] for i in shuffled_indices]\n",
    "\n",
    "# Verify the shuffled data\n",
    "print(\"Data split according to stacks after shuffling:\")\n",
    "for i, (img, mask) in enumerate(zip(shuffled_img_data, shuffled_mask_data)):\n",
    "    print(f\"Stack {i+1}: Image data shape: {img.shape}, Mask data shape: {mask.shape}, Num layers: {shuffled_num_layers[i]}\")\n",
    "\n",
    "# Reunite the shuffled data into a single array\n",
    "reunited_shuffled_img_data = np.concatenate(shuffled_img_data, axis=0)\n",
    "reunited_shuffled_mask_data = np.concatenate(shuffled_mask_data, axis=0)\n",
    "\n",
    "# Verify the shape of the reunited shuffled data\n",
    "print(\"Reunited Shuffled Image Data Shape:\", reunited_shuffled_img_data.shape)\n",
    "print(\"Reunited Shuffled Mask Data Shape:\", reunited_shuffled_mask_data.shape)\n",
    "\n",
    "img_data = reunited_shuffled_img_data\n",
    "mask_data = reunited_shuffled_mask_data\n",
    "num_layers = shuffled_num_layers"
   ]
  },
  {
   "cell_type": "code",
   "execution_count": 132,
   "id": "026cba05-7dbd-49bb-b702-ca64b4b07b66",
   "metadata": {},
   "outputs": [
    {
     "data": {
      "text/plain": [
       "dtype('uint16')"
      ]
     },
     "execution_count": 132,
     "metadata": {},
     "output_type": "execute_result"
    }
   ],
   "source": [
    "img_data.dtype"
   ]
  },
  {
   "cell_type": "code",
   "execution_count": 133,
   "id": "590c6f2a-fc7c-4bf8-b87e-e9eefd230a60",
   "metadata": {},
   "outputs": [
    {
     "data": {
      "text/plain": [
       "dtype('uint16')"
      ]
     },
     "execution_count": 133,
     "metadata": {},
     "output_type": "execute_result"
    }
   ],
   "source": [
    "mask_data.dtype"
   ]
  },
  {
   "cell_type": "markdown",
   "id": "a9ec924c-c7bc-4d68-9c40-867eca74a381",
   "metadata": {},
   "source": [
    "### Split into train, valid, test"
   ]
  },
  {
   "cell_type": "markdown",
   "id": "cfaba15e-b986-45dc-bc1a-d74634290676",
   "metadata": {},
   "source": [
    "#### Split train and test_t"
   ]
  },
  {
   "cell_type": "code",
   "execution_count": 134,
   "id": "6e07af7b-bc14-4dd9-a4ce-baa396ee8ec3",
   "metadata": {
    "scrolled": true
   },
   "outputs": [
    {
     "name": "stdout",
     "output_type": "stream",
     "text": [
      "Num stacks: 23\n",
      "Stack indices: [  9  18  27  36  45  54  63  72  81  90  99 108 117 126 135 144 153 162\n",
      " 171 180 189 198 207]\n",
      "Split index: 165\n",
      "Stack index: 18\n",
      "Index: 171\n",
      "Training Image Data Shape: (171, 1, 1200, 1200)\n",
      "Training Image Data Shape: (171, 1, 1200, 1200)\n",
      "Training Mask Data Shape: (171, 4, 1200, 1200)\n",
      "Testing Image Data Shape: (36, 1, 1200, 1200)\n",
      "Testing Mask Data Shape: (36, 4, 1200, 1200)\n"
     ]
    }
   ],
   "source": [
    "# Example data\n",
    "num_stacks = len(num_layers)\n",
    "\n",
    "# Accumulate the count of images in each stack\n",
    "stack_indices = np.cumsum(num_layers)\n",
    "\n",
    "# Total number of images\n",
    "total_images = sum(num_layers)\n",
    "\n",
    "# Calculate the split indices\n",
    "split_index = int(total_images * split_ratio)  # Assuming 80% training and 20% testing, change this if you have more data\n",
    "\n",
    "# Find the stack index at which the split occurs\n",
    "stack_index = np.argmax(stack_indices >= split_index)\n",
    "\n",
    "if ((num_stacks-1)-stack_index) < 2:                 # So there is at least 1 stack separated (which also means that the test data will be empty. Should this be 2 instead? But then ratio of data could be very different. Would rather have empty valid than test!!!             \n",
    "    stack_index = stack_index-1\n",
    "    print(stack_index)\n",
    "\n",
    "index = stack_indices[stack_index]   #???\n",
    "\n",
    "# Split the data into training and testing sets\n",
    "train_data = img_data[:index]\n",
    "train_targets = mask_data[:index]\n",
    "test_data_t = img_data[index:]\n",
    "test_targets_t = mask_data[index:]\n",
    "\n",
    "# Print the shapes of the resulting datasets\n",
    "print(\"Num stacks:\", num_stacks)\n",
    "print(\"Stack indices:\", stack_indices)\n",
    "print(\"Split index:\", split_index)\n",
    "print(\"Stack index:\", stack_index)\n",
    "print(\"Index:\", index)\n",
    "print(\"Training Image Data Shape:\", train_data.shape)\n",
    "print(\"Training Image Data Shape:\", train_data.shape)\n",
    "print(\"Training Mask Data Shape:\", train_targets.shape)\n",
    "print(\"Testing Image Data Shape:\", test_data_t.shape)\n",
    "print(\"Testing Mask Data Shape:\", test_targets_t.shape)"
   ]
  },
  {
   "cell_type": "code",
   "execution_count": 135,
   "id": "a9412aba-073d-4678-8c32-b59ffa6ef540",
   "metadata": {},
   "outputs": [],
   "source": [
    "## Iterate through each image in train_targets\n",
    "#for train_image_idx, train_image in enumerate(train_targets):\n",
    "#    # Iterate through each image in test_targets_t\n",
    "#    for test_image_idx, test_image in enumerate(test_targets_t):\n",
    "#        # Check if the current train image is identical to the current test image\n",
    "#        if np.array_equal(train_image, test_image):\n",
    "#            print(f\"Duplicate found! Train image index: {train_image_idx}, Test image index: {test_image_idx}\")"
   ]
  },
  {
   "cell_type": "code",
   "execution_count": 136,
   "id": "aeb1e79d-9b75-4a12-83b2-cd1da0ceb4b4",
   "metadata": {},
   "outputs": [
    {
     "data": {
      "text/plain": [
       "dtype('uint16')"
      ]
     },
     "execution_count": 136,
     "metadata": {},
     "output_type": "execute_result"
    }
   ],
   "source": [
    "train_data.dtype"
   ]
  },
  {
   "cell_type": "code",
   "execution_count": 137,
   "id": "7262d2ba-0297-4619-a15d-b682b02c392a",
   "metadata": {},
   "outputs": [
    {
     "data": {
      "text/plain": [
       "dtype('uint16')"
      ]
     },
     "execution_count": 137,
     "metadata": {},
     "output_type": "execute_result"
    }
   ],
   "source": [
    "train_targets.dtype"
   ]
  },
  {
   "cell_type": "code",
   "execution_count": 138,
   "id": "a3b7dea3-ff92-49a6-b45a-0d5aa2abe262",
   "metadata": {},
   "outputs": [
    {
     "data": {
      "text/plain": [
       "dtype('uint16')"
      ]
     },
     "execution_count": 138,
     "metadata": {},
     "output_type": "execute_result"
    }
   ],
   "source": [
    "test_data_t.dtype"
   ]
  },
  {
   "cell_type": "code",
   "execution_count": 139,
   "id": "b0d50583-62c9-4a6b-82c3-7836d7d2e56b",
   "metadata": {},
   "outputs": [
    {
     "data": {
      "text/plain": [
       "dtype('uint16')"
      ]
     },
     "execution_count": 139,
     "metadata": {},
     "output_type": "execute_result"
    }
   ],
   "source": [
    "test_targets_t.dtype"
   ]
  },
  {
   "cell_type": "markdown",
   "id": "f7177e10-03a6-4642-8e15-8fcc290aeedd",
   "metadata": {},
   "source": [
    "#### Split into test and valid"
   ]
  },
  {
   "cell_type": "code",
   "execution_count": 140,
   "id": "68c494cb-1171-4274-84d9-dc5a9d754454",
   "metadata": {},
   "outputs": [],
   "source": [
    "num_layers_test = num_layers[stack_index+1:]"
   ]
  },
  {
   "cell_type": "code",
   "execution_count": 141,
   "id": "d41fd576-df66-4f9d-8e90-7b9e67c9a064",
   "metadata": {},
   "outputs": [
    {
     "data": {
      "text/plain": [
       "[9, 9, 9, 9]"
      ]
     },
     "execution_count": 141,
     "metadata": {},
     "output_type": "execute_result"
    }
   ],
   "source": [
    "num_layers_test"
   ]
  },
  {
   "cell_type": "code",
   "execution_count": 142,
   "id": "116c9785-5341-4281-ab7f-23aef6a18556",
   "metadata": {
    "scrolled": true
   },
   "outputs": [
    {
     "name": "stdout",
     "output_type": "stream",
     "text": [
      "18\n",
      "Valid Image Data Shape: (18, 1, 1200, 1200)\n",
      "Valid Mask Data Shape: (18, 4, 1200, 1200)\n",
      "Test Image Data Shape: (18, 1, 1200, 1200)\n",
      "Test Mask Data Shape: (18, 4, 1200, 1200)\n"
     ]
    }
   ],
   "source": [
    "num_stacks_test = len(num_layers_test)\n",
    "\n",
    "# Accumulate the count of images in each stack\n",
    "stack_indices_test = np.cumsum(num_layers_test)\n",
    "\n",
    "# Total number of images\n",
    "total_images_test = sum(num_layers_test)\n",
    "\n",
    "# Calculate the split indices\n",
    "split_index_test = int(total_images_test * 0.5)  # Assuming 80% training and 20% testing\n",
    "\n",
    "# Find the stack index at which the split occurs\n",
    "stack_index_test = np.argmax(stack_indices_test >= split_index_test)\n",
    "    \n",
    "index_test = stack_indices_test[stack_index_test]\n",
    "print(index_test)\n",
    "\n",
    "# Split the data into valid and testing sets\n",
    "validation_data = test_data_t[:index_test]\n",
    "validation_targets = test_targets_t[:index_test]\n",
    "test_data = test_data_t[index_test:]\n",
    "test_targets = test_targets_t[index_test:]\n",
    "\n",
    "# Print the shapes of the resulting datasets\n",
    "print(\"Valid Image Data Shape:\", validation_data.shape)\n",
    "print(\"Valid Mask Data Shape:\", validation_targets.shape)\n",
    "print(\"Test Image Data Shape:\", test_data.shape)\n",
    "print(\"Test Mask Data Shape:\", test_targets.shape)"
   ]
  },
  {
   "cell_type": "code",
   "execution_count": 143,
   "id": "04958c0d-14c4-416f-8d07-44d5ab23915c",
   "metadata": {},
   "outputs": [],
   "source": [
    "## Iterate through each image in train_targets\n",
    "#for train_image_idx, train_image in enumerate(train_targets):\n",
    "#    # Iterate through each image in test_targets_t\n",
    "#    for test_image_idx, test_image in enumerate(test_targets):\n",
    "#        # Check if the current train image is identical to the current test image\n",
    "#        if np.array_equal(train_image, test_image):\n",
    "#            print(f\"Duplicate found! Train image index: {train_image_idx}, Test image index: {test_image_idx}\")"
   ]
  },
  {
   "cell_type": "code",
   "execution_count": 144,
   "id": "59ae9dec-78eb-4a19-b0f4-e96196c27f41",
   "metadata": {},
   "outputs": [
    {
     "data": {
      "text/plain": [
       "dtype('uint16')"
      ]
     },
     "execution_count": 144,
     "metadata": {},
     "output_type": "execute_result"
    }
   ],
   "source": [
    "validation_data.dtype"
   ]
  },
  {
   "cell_type": "code",
   "execution_count": 145,
   "id": "f9d48baa-f8e4-4ab6-83b4-70f3b3ce561e",
   "metadata": {},
   "outputs": [
    {
     "data": {
      "text/plain": [
       "dtype('uint16')"
      ]
     },
     "execution_count": 145,
     "metadata": {},
     "output_type": "execute_result"
    }
   ],
   "source": [
    "validation_targets.dtype"
   ]
  },
  {
   "cell_type": "code",
   "execution_count": 146,
   "id": "fa4bdf71-90bf-4626-b72d-b94add6aedb3",
   "metadata": {},
   "outputs": [
    {
     "data": {
      "text/plain": [
       "dtype('uint16')"
      ]
     },
     "execution_count": 146,
     "metadata": {},
     "output_type": "execute_result"
    }
   ],
   "source": [
    "test_data.dtype"
   ]
  },
  {
   "cell_type": "code",
   "execution_count": 147,
   "id": "0edb7630-3867-4c76-ab1a-2977f9ca668e",
   "metadata": {},
   "outputs": [
    {
     "data": {
      "text/plain": [
       "dtype('uint16')"
      ]
     },
     "execution_count": 147,
     "metadata": {},
     "output_type": "execute_result"
    }
   ],
   "source": [
    "test_targets.dtype"
   ]
  },
  {
   "cell_type": "markdown",
   "id": "4e710499-4393-4b8b-a079-4121c6216846",
   "metadata": {},
   "source": [
    "### Resizing\n"
   ]
  },
  {
   "cell_type": "code",
   "execution_count": 148,
   "id": "aeda76d1-16b8-4dce-990b-37e9551886ea",
   "metadata": {},
   "outputs": [],
   "source": [
    "resize_size = (1024, 1024)"
   ]
  },
  {
   "cell_type": "code",
   "execution_count": 149,
   "id": "ec340d41-95f8-4119-8ed0-4ac4a74fd4c8",
   "metadata": {},
   "outputs": [
    {
     "data": {
      "text/plain": [
       "(171, 1, 1200, 1200)"
      ]
     },
     "execution_count": 149,
     "metadata": {},
     "output_type": "execute_result"
    }
   ],
   "source": [
    "train_data.shape"
   ]
  },
  {
   "cell_type": "code",
   "execution_count": 150,
   "id": "7e33efe3-678e-4e52-9eaf-24a8e8af99fb",
   "metadata": {},
   "outputs": [
    {
     "name": "stdout",
     "output_type": "stream",
     "text": [
      "(171, 1, 1024, 1024)\n"
     ]
    }
   ],
   "source": [
    "resized_train_data = []\n",
    "\n",
    "# Iterate through each image in the train_data\n",
    "for img in train_data:\n",
    "    resized_slices = []\n",
    "    # img is currently of shape (C, 1200, 1200)\n",
    "    for slice_idx in range(img.shape[0]):\n",
    "        # Resize each slice individually\n",
    "        img_slice_resized = cv2.resize(img[slice_idx], dsize=(1024, 1024), interpolation=cv2.INTER_CUBIC)\n",
    "        resized_slices.append(img_slice_resized)\n",
    "    \n",
    "    # Stack the resized slices along the first dimension\n",
    "    img_resized = np.stack(resized_slices, axis=0)\n",
    "\n",
    "    # Append the resized image to the new array\n",
    "    resized_train_data.append(img_resized)\n",
    "\n",
    "# Convert the list to a numpy array\n",
    "resized_train_data = np.array(resized_train_data)\n",
    "\n",
    "# Verify the shape\n",
    "print(resized_train_data.shape)\n"
   ]
  },
  {
   "cell_type": "code",
   "execution_count": 151,
   "id": "5253d04b-a0b4-46bd-9334-d11e3f9963f8",
   "metadata": {},
   "outputs": [
    {
     "name": "stdout",
     "output_type": "stream",
     "text": [
      "(171, 4, 1024, 1024)\n"
     ]
    }
   ],
   "source": [
    "resized_train_targets = []\n",
    "\n",
    "# Iterate through each mask in the train_targets\n",
    "for mask in train_targets:\n",
    "    resized_slices = []\n",
    "    # mask is currently of shape (C, 1200, 1200)\n",
    "    for slice_idx in range(mask.shape[0]):\n",
    "        # Resize each slice individually\n",
    "        mask_slice_resized = cv2.resize(mask[slice_idx], dsize=(1024, 1024), interpolation=cv2.INTER_CUBIC)\n",
    "        resized_slices.append(mask_slice_resized)\n",
    "    \n",
    "    # Stack the resized slices along the first dimension\n",
    "    mask_resized = np.stack(resized_slices, axis=0)\n",
    "\n",
    "    # Append the resized mask to the new array\n",
    "    resized_train_targets.append(mask_resized)\n",
    "\n",
    "# Convert the list to a numpy array\n",
    "resized_train_targets = np.array(resized_train_targets)\n",
    "\n",
    "# Verify the shape\n",
    "print(resized_train_targets.shape)"
   ]
  },
  {
   "cell_type": "code",
   "execution_count": 152,
   "id": "012841cc-993d-4f16-9419-ec899a1678b7",
   "metadata": {},
   "outputs": [
    {
     "name": "stdout",
     "output_type": "stream",
     "text": [
      "(18, 1, 1024, 1024)\n",
      "(18, 4, 1024, 1024)\n"
     ]
    }
   ],
   "source": [
    "resized_valid_data = []\n",
    "resized_valid_targets = []\n",
    "\n",
    "# Iterate through each image and mask in the valid_data and valid_targets\n",
    "for img, mask in zip(validation_data, validation_targets):\n",
    "    # Resize the image\n",
    "    resized_img_slices = []\n",
    "    for slice_idx in range(img.shape[0]):\n",
    "        img_slice_resized = cv2.resize(img[slice_idx], dsize=(1024, 1024), interpolation=cv2.INTER_CUBIC)\n",
    "        resized_img_slices.append(img_slice_resized)\n",
    "    img_resized = np.stack(resized_img_slices, axis=0)\n",
    "    resized_valid_data.append(img_resized)\n",
    "    \n",
    "    # Resize the mask\n",
    "    resized_mask_slices = []\n",
    "    for slice_idx in range(mask.shape[0]):\n",
    "        mask_slice_resized = cv2.resize(mask[slice_idx], dsize=(1024, 1024), interpolation=cv2.INTER_CUBIC)\n",
    "        resized_mask_slices.append(mask_slice_resized)\n",
    "    mask_resized = np.stack(resized_mask_slices, axis=0)\n",
    "    resized_valid_targets.append(mask_resized)\n",
    "\n",
    "# Convert the lists to numpy arrays\n",
    "resized_valid_data = np.array(resized_valid_data)\n",
    "resized_valid_targets = np.array(resized_valid_targets)\n",
    "\n",
    "# Verify the shapes\n",
    "print(resized_valid_data.shape)\n",
    "print(resized_valid_targets.shape)"
   ]
  },
  {
   "cell_type": "code",
   "execution_count": 153,
   "id": "06b56a59-563b-4bfd-905b-aedab61ecb59",
   "metadata": {},
   "outputs": [],
   "source": [
    "train_data = resized_train_data \n",
    "train_targets = resized_train_targets\n",
    "validation_data = resized_valid_data\n",
    "validation_targets =resized_valid_targets"
   ]
  },
  {
   "cell_type": "markdown",
   "id": "77fc20e0-b042-47b5-8145-f1638af559da",
   "metadata": {},
   "source": [
    "### Data augmentation"
   ]
  },
  {
   "cell_type": "code",
   "execution_count": 154,
   "id": "c870c7d0-c290-4c58-bee9-c53d78600dc2",
   "metadata": {},
   "outputs": [],
   "source": [
    "def augment_images(train_images, target_images, augmentation_percentage=0.3):\n",
    "    augmented_train_images = []\n",
    "    augmented_target_images = []\n",
    "    num_images_to_augment = int(len(train_images) * augmentation_percentage)\n",
    "    indices_to_augment = np.random.choice(len(train_images), size=num_images_to_augment, replace=False)\n",
    "    \n",
    "    for idx, (train_img, target_img) in enumerate(zip(train_images, target_images)):\n",
    "        if idx in indices_to_augment:\n",
    "            augmented_train_img = train_img.copy()\n",
    "            augmented_target_img = target_img.copy()\n",
    "            random_var = np.random.rand()\n",
    "            noise = np.random.normal(loc=0, scale=1, size=augmented_train_img[0].shape).astype(np.uint16)\n",
    "            print(type(noise))\n",
    "            print(augmented_train_img.dtype)\n",
    "            print(augmented_target_img.dtype)\n",
    "            \n",
    "            for layer in range(augmented_train_img.shape[0]):                             \n",
    "                # Apply flipping & noise\n",
    "                if random_var <= 0.2:\n",
    "                    augmented_train_img[layer] = np.flipud(augmented_train_img[layer])      # All of them will never happen together, right?\n",
    "                elif 0.2 <= random_var <= 0.8:\n",
    "                   augmented_train_img[layer] = np.clip(augmented_train_img[layer] + noise, 0, 65535)\n",
    "                else:\n",
    "                    augmented_train_img[layer] = np.fliplr(augmented_train_img[layer])       \n",
    "\n",
    "            augmented_train_images.append(augmented_train_img)\n",
    "            \n",
    "            for layer in range(augmented_target_img.shape[0]):\n",
    "                if np.all(augmented_target_img[layer] == 0):\n",
    "                    continue\n",
    "                    \n",
    "                elif random_var <= 0.2:\n",
    "                    augmented_target_img[layer] = np.flipud(augmented_target_img[layer])\n",
    "                elif 0.2 <= random_var <= 0.8:\n",
    "                    augmented_target_img[layer] = np.clip(augmented_target_img[layer] + noise, 0, 65535)\n",
    "                else:\n",
    "                    augmented_target_img[layer] = np.fliplr(augmented_target_img[layer])\n",
    "                 \n",
    "            augmented_target_images.append(augmented_target_img)\n",
    "\n",
    "            print(augmented_train_img.dtype)\n",
    "            print(augmented_target_img.dtype)\n",
    "\n",
    "        \n",
    "        \n",
    "        augmented_train_images.append(train_img)          # keep the originals too\n",
    "        augmented_target_images.append(target_img)\n",
    "        print(train_img.dtype)\n",
    "        print(target_img.dtype)\n",
    "        \n",
    "        \n",
    "    \n",
    "    return np.array(augmented_train_images), np.array(augmented_target_images)"
   ]
  },
  {
   "cell_type": "code",
   "execution_count": 155,
   "id": "73245257-d07e-43ec-9f92-17f518ace70b",
   "metadata": {},
   "outputs": [
    {
     "name": "stdout",
     "output_type": "stream",
     "text": [
      "Number of masks with tubulin before agumentation: 0\n"
     ]
    }
   ],
   "source": [
    "present_tub = 0                             #In study_DIC_110, tubulin is only present in 3 datasets, so I want to augment those\n",
    "for target in train_targets:\n",
    "    if np.any(target[3] != 0):\n",
    "        present_tub += 1\n",
    "print(f\"Number of masks with tubulin before agumentation: {present_tub}\")"
   ]
  },
  {
   "cell_type": "code",
   "execution_count": 156,
   "id": "c82ab26b-eb79-443a-a09b-567dca488731",
   "metadata": {
    "scrolled": true
   },
   "outputs": [],
   "source": [
    "augmented_train_data = train_data\n",
    "augmented_target_data = train_targets\n",
    "for dataset in datasets_to_augment:\n",
    "    if dataset in path:\n",
    "        augmented_train_data, augmented_target_data = augment_images(train_data, train_targets, augmentation_percentage=0.5)\n",
    "        break"
   ]
  },
  {
   "cell_type": "code",
   "execution_count": 157,
   "id": "a5cc6d3e-cc43-420e-8e0d-633cf12529d0",
   "metadata": {},
   "outputs": [
    {
     "name": "stdout",
     "output_type": "stream",
     "text": [
      "Number of masks with tubulin after agumentation: 0\n"
     ]
    }
   ],
   "source": [
    "present_tub = 0\n",
    "for target in augmented_target_data:\n",
    "    if np.any(target[3] != 0):\n",
    "        present_tub += 1\n",
    "print(f\"Number of masks with tubulin after agumentation: {present_tub}\")"
   ]
  },
  {
   "cell_type": "code",
   "execution_count": 158,
   "id": "96a76c11-08b4-4f4a-85a8-acfb0823114d",
   "metadata": {},
   "outputs": [
    {
     "name": "stdout",
     "output_type": "stream",
     "text": [
      "(171, 1, 1024, 1024)\n",
      "(171, 4, 1024, 1024)\n"
     ]
    }
   ],
   "source": [
    "print(augmented_train_data.shape)\n",
    "print(augmented_target_data.shape)"
   ]
  },
  {
   "cell_type": "code",
   "execution_count": 159,
   "id": "49b47e60-57fb-40df-a02e-c09f03d0d5cb",
   "metadata": {},
   "outputs": [
    {
     "data": {
      "text/plain": [
       "(18, 1, 1200, 1200)"
      ]
     },
     "execution_count": 159,
     "metadata": {},
     "output_type": "execute_result"
    }
   ],
   "source": [
    "test_data.shape"
   ]
  },
  {
   "cell_type": "code",
   "execution_count": 160,
   "id": "b56b9a02-15fa-4672-9a81-7698de1ab0b5",
   "metadata": {},
   "outputs": [],
   "source": [
    "train_data = augmented_train_data\n",
    "train_targets = augmented_target_data"
   ]
  },
  {
   "cell_type": "code",
   "execution_count": 161,
   "id": "bea8e559-6172-449e-ad40-e842713ace65",
   "metadata": {},
   "outputs": [
    {
     "name": "stdout",
     "output_type": "stream",
     "text": [
      "uint16\n",
      "uint16\n"
     ]
    }
   ],
   "source": [
    "print(train_data.dtype)\n",
    "print(train_targets.dtype)"
   ]
  },
  {
   "cell_type": "markdown",
   "id": "ea1f32cc-bfa9-4c49-97b5-d30df81d290e",
   "metadata": {},
   "source": [
    "### Pytable"
   ]
  },
  {
   "cell_type": "markdown",
   "id": "53968ddd-0374-4b82-8375-3f205fdcb16b",
   "metadata": {},
   "source": [
    "##### Create pytable (run only once)"
   ]
  },
  {
   "cell_type": "markdown",
   "id": "aada4b0b-3c27-4a9a-a644-bf0409992235",
   "metadata": {},
   "source": [
    "See create_pytables.ipynb"
   ]
  },
  {
   "cell_type": "markdown",
   "id": "cb47a3aa-cb14-4789-ad3f-01273867e2a6",
   "metadata": {},
   "source": [
    "### Adding data to pytable"
   ]
  },
  {
   "cell_type": "code",
   "execution_count": 162,
   "id": "d05c1ded-a530-4625-bd8a-d9b3bc7ccbca",
   "metadata": {},
   "outputs": [],
   "source": [
    "import tables\n",
    "import numpy as np"
   ]
  },
  {
   "cell_type": "code",
   "execution_count": 163,
   "id": "a94f0692-8f41-4105-ba1c-9944c80d452a",
   "metadata": {},
   "outputs": [],
   "source": [
    "#def batch_write_to_pytables(data_list, table, batch_size=1000):\n",
    "#    total_records = len(data_list)\n",
    "#    for i in range(0, total_records, batch_size):\n",
    "#        batch_data = data_list[i:i+batch_size]\n",
    "#        table.append(batch_data)\n",
    "#        table.flush()"
   ]
  },
  {
   "cell_type": "markdown",
   "id": "fa429c50-50b1-48be-b8fb-88f78f1b9249",
   "metadata": {},
   "source": [
    "#### Add train dataset"
   ]
  },
  {
   "cell_type": "code",
   "execution_count": 164,
   "id": "80450216-3416-4e5c-b7f3-fde1e8e87b66",
   "metadata": {
    "scrolled": true
   },
   "outputs": [],
   "source": [
    "# Open an existing PyTable file or create a new one\n",
    "with tables.open_file('/media/local-admin/lightmycells/thesis/code/pytables/single/DIC/study_DIC_train_single.pytable', mode='a') as h5file:\n",
    "\n",
    "    # Access the desired group or table\n",
    "    img_earray = h5file.root.img.data\n",
    "    mask_earray = h5file.root.mask.data\n",
    "\n",
    "    for record in train_data:\n",
    "        record = np.expand_dims(record, axis=0)\n",
    "        img_earray.append(record)\n",
    "\n",
    "    for record in train_targets:\n",
    "        record = np.expand_dims(record, axis=0)\n",
    "        mask_earray.append(record)  "
   ]
  },
  {
   "cell_type": "markdown",
   "id": "9a35b1c7-11b2-47b4-85e7-94b2421707a9",
   "metadata": {},
   "source": [
    "#### Add validation dataset"
   ]
  },
  {
   "cell_type": "code",
   "execution_count": 165,
   "id": "f2be4fef-f3a6-4485-8f86-3005c439e393",
   "metadata": {},
   "outputs": [],
   "source": [
    "# Open an existing PyTable file or create a new one\n",
    "with tables.open_file('/media/local-admin/lightmycells/thesis/code/pytables/single/DIC/study_DIC_valid_single.pytable', mode='a') as h5file:\n",
    "\n",
    "    # Access the desired group or table\n",
    "    img_earray = h5file.root.img.data\n",
    "    mask_earray = h5file.root.mask.data\n",
    "\n",
    "    for record in validation_data:\n",
    "        record = np.expand_dims(record, axis=0)\n",
    "        img_earray.append(record)\n",
    "\n",
    "    for record in validation_targets:\n",
    "        record = np.expand_dims(record, axis=0)\n",
    "        mask_earray.append(record)  "
   ]
  },
  {
   "cell_type": "markdown",
   "id": "cd4bfa76-7066-4006-b2ff-ee2e5bf597f9",
   "metadata": {},
   "source": [
    "#### Add test dataset"
   ]
  },
  {
   "cell_type": "code",
   "execution_count": 166,
   "id": "56cc29c7-0a1f-4ed2-b3e2-22e8e93339e0",
   "metadata": {},
   "outputs": [
    {
     "name": "stdout",
     "output_type": "stream",
     "text": [
      "uint16\n",
      "uint16\n",
      "uint16\n",
      "uint16\n",
      "uint16\n",
      "uint16\n",
      "uint16\n",
      "uint16\n",
      "uint16\n",
      "uint16\n",
      "uint16\n",
      "uint16\n",
      "uint16\n",
      "uint16\n",
      "uint16\n",
      "uint16\n",
      "uint16\n",
      "uint16\n",
      "uint16\n",
      "uint16\n",
      "uint16\n",
      "uint16\n",
      "uint16\n",
      "uint16\n",
      "uint16\n",
      "uint16\n",
      "uint16\n",
      "uint16\n",
      "uint16\n",
      "uint16\n",
      "uint16\n",
      "uint16\n",
      "uint16\n",
      "uint16\n",
      "uint16\n",
      "uint16\n"
     ]
    }
   ],
   "source": [
    "# Open an existing PyTable file or create a new one\n",
    "with tables.open_file('/media/local-admin/lightmycells/thesis/code/pytables/single/DIC/study_DIC_test_single.pytable', mode='a') as h5file:\n",
    "\n",
    "    # Access the desired group or table\n",
    "\n",
    "    data_shape = test_data.shape\n",
    "    shape_suffix = f\"{data_shape[-2]}\"  # Assuming the shape you're interested in is in the second-to-last dimension\n",
    "    \n",
    "    # Access the desired group or table\n",
    "    img_earray = h5file.root.img[f'data_{shape_suffix}']\n",
    "    mask_earray = h5file.root.mask[f'data_{shape_suffix}']\n",
    "    \n",
    "    # Iterate through your data and append it to the EArray\n",
    "    for data_row in test_data:\n",
    "        data_row = np.expand_dims(data_row, axis=0)\n",
    "        img_earray.append(data_row)\n",
    "        print(data_row.dtype)\n",
    "\n",
    "    for data_row in test_targets:\n",
    "        data_row = np.expand_dims(data_row, axis=0)\n",
    "        mask_earray.append(data_row)\n",
    "        print(data_row.dtype)"
   ]
  },
  {
   "cell_type": "markdown",
   "id": "84f8561c-5c07-41ba-8f45-bf3d2fdf1755",
   "metadata": {},
   "source": [
    "#### Check pytable structures"
   ]
  },
  {
   "cell_type": "code",
   "execution_count": 167,
   "id": "aa996e88-7199-4dbe-9370-7aed2fe71d21",
   "metadata": {},
   "outputs": [
    {
     "name": "stdout",
     "output_type": "stream",
     "text": [
      "/media/local-admin/lightmycells/thesis/code/pytables/study_DIC_test_single.pytable (File) ''\n",
      "Last modif.: '2024-06-17T13:04:02+00:00'\n",
      "Object Tree: \n",
      "/ (RootGroup) ''\n",
      "/img (Group) 'Image data'\n",
      "/img/data_1024 (EArray(0, 1, 1024, 1024)zlib(5)) ''\n",
      "/img/data_1200 (EArray(18, 1, 1200, 1200)zlib(5)) ''\n",
      "/img/data_1300 (EArray(0, 1, 1300, 1624)zlib(5)) ''\n",
      "/img/data_2044 (EArray(0, 1, 2044, 2048)zlib(5)) ''\n",
      "/img/data_2048 (EArray(0, 1, 2048, 2048)zlib(5)) ''\n",
      "/img/data_512 (EArray(0, 1, 512, 512)zlib(5)) ''\n",
      "/img/data_966 (EArray(0, 1, 966, 1296)zlib(5)) ''\n",
      "/img/data_980 (EArray(0, 1, 980, 1016)zlib(5)) ''\n",
      "/mask (Group) 'Mask data'\n",
      "/mask/data_1024 (EArray(0, 4, 1024, 1024)zlib(5)) ''\n",
      "/mask/data_1200 (EArray(18, 4, 1200, 1200)zlib(5)) ''\n",
      "/mask/data_1300 (EArray(0, 4, 1300, 1624)zlib(5)) ''\n",
      "/mask/data_2044 (EArray(0, 4, 2044, 2048)zlib(5)) ''\n",
      "/mask/data_2048 (EArray(0, 4, 2048, 2048)zlib(5)) ''\n",
      "/mask/data_512 (EArray(0, 4, 512, 512)zlib(5)) ''\n",
      "/mask/data_966 (EArray(0, 4, 966, 1296)zlib(5)) ''\n",
      "/mask/data_980 (EArray(0, 4, 980, 1016)zlib(5)) ''\n",
      "\n",
      "Group: / (RootGroup) ''\n",
      "Group: /img (Group) 'Image data'\n",
      "Group: /mask (Group) 'Mask data'\n",
      "Array: /img/data_1024 (EArray(0, 1, 1024, 1024)zlib(5)) ''\n",
      "Array: /img/data_1200 (EArray(18, 1, 1200, 1200)zlib(5)) ''\n",
      "Array: /img/data_1300 (EArray(0, 1, 1300, 1624)zlib(5)) ''\n",
      "Array: /img/data_2044 (EArray(0, 1, 2044, 2048)zlib(5)) ''\n",
      "Array: /img/data_2048 (EArray(0, 1, 2048, 2048)zlib(5)) ''\n",
      "Array: /img/data_512 (EArray(0, 1, 512, 512)zlib(5)) ''\n",
      "Array: /img/data_966 (EArray(0, 1, 966, 1296)zlib(5)) ''\n",
      "Array: /img/data_980 (EArray(0, 1, 980, 1016)zlib(5)) ''\n",
      "Array: /mask/data_1024 (EArray(0, 4, 1024, 1024)zlib(5)) ''\n",
      "Array: /mask/data_1200 (EArray(18, 4, 1200, 1200)zlib(5)) ''\n",
      "Array: /mask/data_1300 (EArray(0, 4, 1300, 1624)zlib(5)) ''\n",
      "Array: /mask/data_2044 (EArray(0, 4, 2044, 2048)zlib(5)) ''\n",
      "Array: /mask/data_2048 (EArray(0, 4, 2048, 2048)zlib(5)) ''\n",
      "Array: /mask/data_512 (EArray(0, 4, 512, 512)zlib(5)) ''\n",
      "Array: /mask/data_966 (EArray(0, 4, 966, 1296)zlib(5)) ''\n",
      "Array: /mask/data_980 (EArray(0, 4, 980, 1016)zlib(5)) ''\n"
     ]
    }
   ],
   "source": [
    "train_file = '/media/local-admin/lightmycells/thesis/code/pytables/single/DIC/study_DIC_train_single.pytable'\n",
    "test_file = '/media/local-admin/lightmycells/thesis/code/pytables/single/DIC/study_DIC_test_single.pytable'\n",
    "valid_file = '/media/local-admin/lightmycells/thesis/code/pytables/single/DIC/study_DIC_valid_single.pytable'\n",
    "\n",
    "# Open the PyTable file\n",
    "with tables.open_file(test_file, mode='r') as h5file:\n",
    "    # Print the structure of the file\n",
    "    print(h5file)\n",
    "\n",
    "    # Access and print information about groups\n",
    "    for group in h5file.walk_groups():\n",
    "        print(f\"Group: {group}\")\n",
    "\n",
    "    # Access and print information about arrays\n",
    "    for array in h5file.walk_nodes(where='/', classname='Array'):\n",
    "        print(f\"Array: {array}\")"
   ]
  },
  {
   "cell_type": "code",
   "execution_count": 168,
   "id": "a19491b7-624b-4ebd-abc3-7cca5fb67403",
   "metadata": {},
   "outputs": [
    {
     "data": {
      "text/plain": [
       "(171, 4, 1024, 1024)"
      ]
     },
     "execution_count": 168,
     "metadata": {},
     "output_type": "execute_result"
    }
   ],
   "source": [
    "train_targets.shape"
   ]
  },
  {
   "cell_type": "code",
   "execution_count": 169,
   "id": "1358bc6f-e4b1-4a86-b537-26f18c8e957b",
   "metadata": {},
   "outputs": [
    {
     "data": {
      "text/plain": [
       "(171, 1, 1024, 1024)"
      ]
     },
     "execution_count": 169,
     "metadata": {},
     "output_type": "execute_result"
    }
   ],
   "source": [
    "train_data.shape"
   ]
  },
  {
   "cell_type": "code",
   "execution_count": 170,
   "id": "5cb8e7f7-b7d5-43fd-bf7f-1a592e309232",
   "metadata": {},
   "outputs": [],
   "source": [
    "tables.file._open_files.close_all()"
   ]
  }
 ],
 "metadata": {
  "kernelspec": {
   "display_name": "Python 3 (ipykernel)",
   "language": "python",
   "name": "python3"
  },
  "language_info": {
   "codemirror_mode": {
    "name": "ipython",
    "version": 3
   },
   "file_extension": ".py",
   "mimetype": "text/x-python",
   "name": "python",
   "nbconvert_exporter": "python",
   "pygments_lexer": "ipython3",
   "version": "3.11.5"
  }
 },
 "nbformat": 4,
 "nbformat_minor": 5
}
